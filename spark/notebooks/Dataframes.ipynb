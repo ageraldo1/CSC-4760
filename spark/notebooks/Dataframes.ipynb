{
 "cells": [
  {
   "cell_type": "markdown",
   "metadata": {},
   "source": [
    "### Dependencies\n",
    "___"
   ]
  },
  {
   "cell_type": "code",
   "execution_count": 1,
   "metadata": {},
   "outputs": [],
   "source": [
    "from pyspark.sql import SparkSession\n",
    "from pyspark.sql.types import StructField, StructType, StringType, IntegerType, FloatType"
   ]
  },
  {
   "cell_type": "markdown",
   "metadata": {},
   "source": [
    "### Create Session\n",
    "____"
   ]
  },
  {
   "cell_type": "code",
   "execution_count": 2,
   "metadata": {},
   "outputs": [],
   "source": [
    "csv_file = \"/tmp/walking/dataset.csv\"\n",
    "\n",
    "spark = SparkSession.builder.appName('sampleApplication').getOrCreate()"
   ]
  },
  {
   "cell_type": "markdown",
   "metadata": {},
   "source": [
    "#### Create DataFrame\n",
    "______"
   ]
  },
  {
   "cell_type": "code",
   "execution_count": 4,
   "metadata": {},
   "outputs": [
    {
     "name": "stdout",
     "output_type": "stream",
     "text": [
      "root\n",
      " |-- time: string (nullable = true)\n",
      " |-- avg_rss12: string (nullable = true)\n",
      " |-- var_rss12: string (nullable = true)\n",
      " |-- avg_rss13: string (nullable = true)\n",
      " |-- var_rss13: string (nullable = true)\n",
      " |-- avg_rss23: string (nullable = true)\n",
      " |-- var_rss23: string (nullable = true)\n",
      "\n"
     ]
    }
   ],
   "source": [
    "df = spark.read.csv(path=csv_file,header=True)\n",
    "df.printSchema()"
   ]
  },
  {
   "cell_type": "code",
   "execution_count": 5,
   "metadata": {},
   "outputs": [
    {
     "name": "stdout",
     "output_type": "stream",
     "text": [
      "+----+---------+---------+---------+---------+---------+---------+\n",
      "|time|avg_rss12|var_rss12|avg_rss13|var_rss13|avg_rss23|var_rss23|\n",
      "+----+---------+---------+---------+---------+---------+---------+\n",
      "|   0|    35.00|     3.67|    16.50|     3.77|    14.00|     1.63|\n",
      "| 250|    28.50|     3.35|    17.50|     3.77|    12.25|     3.90|\n",
      "| 500|    35.50|     2.87|    15.75|     2.86|    17.75|     5.07|\n",
      "| 750|    29.75|    12.19|    16.25|     2.17|    20.75|     2.59|\n",
      "|1000|    27.00|     2.12|    16.75|     0.83|    24.75|     1.64|\n",
      "|1250|    36.00|     5.61|    12.25|     2.28|    19.25|     2.68|\n",
      "|1500|    38.50|     4.33|    16.00|     5.70|    15.25|     2.38|\n",
      "|1750|    35.25|     2.49|    16.00|     1.41|    15.00|     2.83|\n",
      "|2000|    35.75|     7.05|    11.00|     4.42|    12.50|     8.08|\n",
      "|2250|    36.00|     7.04|    15.00|     2.12|    16.75|     4.02|\n",
      "+----+---------+---------+---------+---------+---------+---------+\n",
      "only showing top 10 rows\n",
      "\n"
     ]
    }
   ],
   "source": [
    "df.show(10)"
   ]
  },
  {
   "cell_type": "code",
   "execution_count": 6,
   "metadata": {},
   "outputs": [
    {
     "name": "stdout",
     "output_type": "stream",
     "text": [
      "+-------+----------------+-----------------+------------------+------------------+------------------+------------------+------------------+\n",
      "|summary|            time|        avg_rss12|         var_rss12|         avg_rss13|         var_rss13|         avg_rss23|         var_rss23|\n",
      "+-------+----------------+-----------------+------------------+------------------+------------------+------------------+------------------+\n",
      "|  count|            7200|             7200|              7200|              7200|              7200|              7200|              7200|\n",
      "|   mean|         59875.0|34.43367638888891| 4.337393055555574|15.394559722222217|3.2036083333333623|16.025058333333345| 3.343612500000015|\n",
      "| stddev|34643.3468469953|4.808602849860674|2.4434541249050907| 2.912519317367833| 1.624393703577679|3.1124831754792432|1.7012372763482624|\n",
      "|    min|               0|            12.50|              0.00|             10.00|              0.00|             10.00|              0.00|\n",
      "|    max|           99750|            51.25|              9.98|              9.75|              9.90|              9.75|              9.74|\n",
      "+-------+----------------+-----------------+------------------+------------------+------------------+------------------+------------------+\n",
      "\n"
     ]
    }
   ],
   "source": [
    "df.describe().show()"
   ]
  },
  {
   "cell_type": "markdown",
   "metadata": {},
   "source": [
    "#### Schema Casting\n",
    "_____"
   ]
  },
  {
   "cell_type": "code",
   "execution_count": 7,
   "metadata": {},
   "outputs": [
    {
     "name": "stdout",
     "output_type": "stream",
     "text": [
      "root\n",
      " |-- time: integer (nullable = true)\n",
      " |-- avg_rss12: float (nullable = true)\n",
      " |-- var_rss12: float (nullable = true)\n",
      " |-- avg_rss13: float (nullable = true)\n",
      " |-- var_rss13: float (nullable = true)\n",
      " |-- avg_rss23: float (nullable = true)\n",
      " |-- var_rss23: float (nullable = true)\n",
      "\n"
     ]
    }
   ],
   "source": [
    "data_schema = [StructField('time', IntegerType(), False),\n",
    "               StructField('avg_rss12', FloatType(), False),\n",
    "               StructField('var_rss12', FloatType(), False),\n",
    "               StructField('avg_rss13', FloatType(), False),\n",
    "               StructField('var_rss13', FloatType(), False),\n",
    "               StructField('avg_rss23', FloatType(), False),\n",
    "               StructField('var_rss23', FloatType(), False),\n",
    "              ]\n",
    "\n",
    "final_struct = StructType(fields=data_schema)\n",
    "\n",
    "df = spark.read.csv(path=csv_file, header=True, schema=final_struct)\n",
    "df.printSchema()"
   ]
  },
  {
   "cell_type": "markdown",
   "metadata": {},
   "source": [
    "#### Selecting Data\n",
    "_____"
   ]
  },
  {
   "cell_type": "code",
   "execution_count": 10,
   "metadata": {},
   "outputs": [
    {
     "data": {
      "text/plain": [
       "pyspark.sql.column.Column"
      ]
     },
     "execution_count": 10,
     "metadata": {},
     "output_type": "execute_result"
    }
   ],
   "source": [
    "# pyspark.sql.column.Column \n",
    "# returns only the column object\n",
    "type(df['time'])\n"
   ]
  },
  {
   "cell_type": "code",
   "execution_count": 13,
   "metadata": {},
   "outputs": [
    {
     "name": "stdout",
     "output_type": "stream",
     "text": [
      "+----+\n",
      "|time|\n",
      "+----+\n",
      "|   0|\n",
      "| 250|\n",
      "| 500|\n",
      "| 750|\n",
      "|1000|\n",
      "|1250|\n",
      "|1500|\n",
      "|1750|\n",
      "|2000|\n",
      "|2250|\n",
      "|2500|\n",
      "|2750|\n",
      "|3000|\n",
      "|3250|\n",
      "|3500|\n",
      "|3750|\n",
      "|4000|\n",
      "|4250|\n",
      "|4500|\n",
      "|4750|\n",
      "+----+\n",
      "only showing top 20 rows\n",
      "\n"
     ]
    }
   ],
   "source": [
    "# selecting the column data and returns a dataframe\n",
    "df.select('time').show()"
   ]
  },
  {
   "cell_type": "code",
   "execution_count": 15,
   "metadata": {},
   "outputs": [
    {
     "data": {
      "text/plain": [
       "[Row(time=0, avg_rss12=35.0, var_rss12=3.6700000762939453, avg_rss13=16.5, var_rss13=3.7699999809265137, avg_rss23=14.0, var_rss23=1.6299999952316284),\n",
       " Row(time=250, avg_rss12=28.5, var_rss12=3.3499999046325684, avg_rss13=17.5, var_rss13=3.7699999809265137, avg_rss23=12.25, var_rss23=3.9000000953674316)]"
      ]
     },
     "execution_count": 15,
     "metadata": {},
     "output_type": "execute_result"
    }
   ],
   "source": [
    "# head method\n",
    "\n",
    "df.head(2)"
   ]
  },
  {
   "cell_type": "code",
   "execution_count": 17,
   "metadata": {},
   "outputs": [
    {
     "data": {
      "text/plain": [
       "Row(time=0, avg_rss12=35.0, var_rss12=3.6700000762939453, avg_rss13=16.5, var_rss13=3.7699999809265137, avg_rss23=14.0, var_rss23=1.6299999952316284)"
      ]
     },
     "execution_count": 17,
     "metadata": {},
     "output_type": "execute_result"
    }
   ],
   "source": [
    "df.head(1)[0]"
   ]
  },
  {
   "cell_type": "markdown",
   "metadata": {},
   "source": [
    "#### Working with SQL\n",
    "_____"
   ]
  },
  {
   "cell_type": "code",
   "execution_count": 27,
   "metadata": {},
   "outputs": [
    {
     "data": {
      "text/plain": [
       "pyspark.sql.dataframe.DataFrame"
      ]
     },
     "execution_count": 27,
     "metadata": {},
     "output_type": "execute_result"
    }
   ],
   "source": [
    "df.createOrReplaceTempView('measurements')\n",
    "\n",
    "results = spark.sql(\"SELECT * FROM measurements WHERE time=250\")\n",
    "\n",
    "type(results)"
   ]
  },
  {
   "cell_type": "code",
   "execution_count": 28,
   "metadata": {},
   "outputs": [
    {
     "name": "stdout",
     "output_type": "stream",
     "text": [
      "+----+---------+---------+---------+---------+---------+---------+\n",
      "|time|avg_rss12|var_rss12|avg_rss13|var_rss13|avg_rss23|var_rss23|\n",
      "+----+---------+---------+---------+---------+---------+---------+\n",
      "| 250|     28.5|     3.35|     17.5|     3.77|    12.25|      3.9|\n",
      "| 250|     40.0|     5.24|    19.25|     2.86|    12.25|     4.32|\n",
      "| 250|    36.25|     7.26|     15.0|     3.67|    17.75|     2.86|\n",
      "| 250|    33.67|     3.86|    13.33|      3.4|     16.0|      5.0|\n",
      "| 250|     40.0|     4.06|     12.0|     3.94|     13.0|     7.38|\n",
      "| 250|    31.75|     2.49|    16.25|     5.31|     17.0|     2.24|\n",
      "| 250|     37.5|     1.12|    16.75|      4.6|    17.25|     4.32|\n",
      "| 250|    40.25|     2.49|    12.75|     4.32|    23.25|      1.3|\n",
      "| 250|    37.75|     5.07|     15.5|      3.2|    14.75|     1.79|\n",
      "| 250|     39.0|      3.0|     21.0|      1.0|     17.0|     5.79|\n",
      "| 250|    30.25|     6.94|    22.25|     3.03|    16.75|     5.49|\n",
      "| 250|    41.25|     4.44|    17.33|      4.5|    14.67|     3.68|\n",
      "| 250|    27.75|      1.3|     16.0|     2.92|    13.75|     3.49|\n",
      "| 250|     27.0|     2.12|    16.75|     2.86|     20.0|     2.12|\n",
      "| 250|    35.25|     2.49|    11.33|     4.92|    13.67|     2.36|\n",
      "+----+---------+---------+---------+---------+---------+---------+\n",
      "\n"
     ]
    }
   ],
   "source": [
    "results.show()"
   ]
  },
  {
   "cell_type": "code",
   "execution_count": null,
   "metadata": {},
   "outputs": [],
   "source": []
  }
 ],
 "metadata": {
  "kernelspec": {
   "display_name": "Python 3",
   "language": "python",
   "name": "python3"
  },
  "language_info": {
   "codemirror_mode": {
    "name": "ipython",
    "version": 3
   },
   "file_extension": ".py",
   "mimetype": "text/x-python",
   "name": "python",
   "nbconvert_exporter": "python",
   "pygments_lexer": "ipython3",
   "version": "3.6.8"
  }
 },
 "nbformat": 4,
 "nbformat_minor": 4
}
