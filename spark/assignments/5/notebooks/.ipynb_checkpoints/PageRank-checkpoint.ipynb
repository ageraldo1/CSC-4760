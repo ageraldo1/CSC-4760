{
 "cells": [
  {
   "cell_type": "markdown",
   "metadata": {},
   "source": [
    "#### Dependencies\n",
    "_____"
   ]
  },
  {
   "cell_type": "code",
   "execution_count": 1,
   "metadata": {},
   "outputs": [],
   "source": [
    "from pyspark.sql import SparkSession\n",
    "from pyspark.sql.functions import desc\n",
    "from graphframes import *"
   ]
  },
  {
   "cell_type": "markdown",
   "metadata": {},
   "source": [
    "#### Spark Session\n",
    "____"
   ]
  },
  {
   "cell_type": "code",
   "execution_count": 2,
   "metadata": {},
   "outputs": [],
   "source": [
    "spark = SparkSession.builder.appName('PageRank').getOrCreate()"
   ]
  },
  {
   "cell_type": "markdown",
   "metadata": {},
   "source": [
    "#### Load Adjacency List\n",
    "____"
   ]
  },
  {
   "cell_type": "code",
   "execution_count": 3,
   "metadata": {},
   "outputs": [
    {
     "data": {
      "text/plain": [
       "../resources/02AdjacencyList.txt MapPartitionsRDD[1] at textFile at NativeMethodAccessorImpl.java:0"
      ]
     },
     "execution_count": 3,
     "metadata": {},
     "output_type": "execute_result"
    }
   ],
   "source": [
    "rdd = spark.sparkContext.textFile('../resources/02AdjacencyList.txt')\n",
    "rdd.persist()"
   ]
  },
  {
   "cell_type": "markdown",
   "metadata": {},
   "source": [
    "#### Create Vertices and Edges DataFrames\n",
    "____"
   ]
  },
  {
   "cell_type": "code",
   "execution_count": 6,
   "metadata": {},
   "outputs": [],
   "source": [
    "v_list = []\n",
    "e_list = []\n",
    "\n",
    "for node in rdd.map(lambda item: item.split(' ')).collect():\n",
    "    v_list.append((node[0], 'vertice_'+node[0]))\n",
    "    \n",
    "    for edge in range(1, len(node)):\n",
    "        e_list.append((node[0], node[edge]))    \n"
   ]
  },
  {
   "cell_type": "code",
   "execution_count": 7,
   "metadata": {},
   "outputs": [
    {
     "name": "stdout",
     "output_type": "stream",
     "text": [
      "+---+---------+\n",
      "| id|     name|\n",
      "+---+---------+\n",
      "|  1|vertice_1|\n",
      "|  2|vertice_2|\n",
      "|  3|vertice_3|\n",
      "|  4|vertice_4|\n",
      "|  5|vertice_5|\n",
      "+---+---------+\n",
      "\n"
     ]
    }
   ],
   "source": [
    "vertices = spark.createDataFrame(v_list, ['id', 'name'])\n",
    "vertices.show()"
   ]
  },
  {
   "cell_type": "code",
   "execution_count": 8,
   "metadata": {},
   "outputs": [
    {
     "name": "stdout",
     "output_type": "stream",
     "text": [
      "+---+---+\n",
      "|src|dst|\n",
      "+---+---+\n",
      "|  1|  2|\n",
      "|  2|  3|\n",
      "|  2|  4|\n",
      "|  3|  4|\n",
      "|  4|  1|\n",
      "|  4|  5|\n",
      "|  5|  3|\n",
      "+---+---+\n",
      "\n"
     ]
    }
   ],
   "source": [
    "edges = spark.createDataFrame(e_list, ['src', 'dst'])\n",
    "edges.show()"
   ]
  },
  {
   "cell_type": "markdown",
   "metadata": {},
   "source": [
    "#### Construct Graph \n",
    "____"
   ]
  },
  {
   "cell_type": "code",
   "execution_count": 9,
   "metadata": {},
   "outputs": [],
   "source": [
    "graph = GraphFrame(vertices, edges)"
   ]
  },
  {
   "cell_type": "markdown",
   "metadata": {},
   "source": [
    "#### Verify Vertices, Edges and Degress of Graph \n",
    "____"
   ]
  },
  {
   "cell_type": "code",
   "execution_count": 10,
   "metadata": {},
   "outputs": [
    {
     "name": "stdout",
     "output_type": "stream",
     "text": [
      "+---+---------+\n",
      "| id|     name|\n",
      "+---+---------+\n",
      "|  1|vertice_1|\n",
      "|  2|vertice_2|\n",
      "|  3|vertice_3|\n",
      "|  4|vertice_4|\n",
      "|  5|vertice_5|\n",
      "+---+---------+\n",
      "\n"
     ]
    }
   ],
   "source": [
    "graph.vertices.show()"
   ]
  },
  {
   "cell_type": "code",
   "execution_count": 11,
   "metadata": {},
   "outputs": [
    {
     "name": "stdout",
     "output_type": "stream",
     "text": [
      "+---+---+\n",
      "|src|dst|\n",
      "+---+---+\n",
      "|  1|  2|\n",
      "|  2|  3|\n",
      "|  2|  4|\n",
      "|  3|  4|\n",
      "|  4|  1|\n",
      "|  4|  5|\n",
      "|  5|  3|\n",
      "+---+---+\n",
      "\n"
     ]
    }
   ],
   "source": [
    "graph.edges.show()"
   ]
  },
  {
   "cell_type": "code",
   "execution_count": 12,
   "metadata": {},
   "outputs": [
    {
     "name": "stdout",
     "output_type": "stream",
     "text": [
      "+---+------+\n",
      "| id|degree|\n",
      "+---+------+\n",
      "|  3|     3|\n",
      "|  5|     2|\n",
      "|  1|     2|\n",
      "|  4|     4|\n",
      "|  2|     3|\n",
      "+---+------+\n",
      "\n"
     ]
    }
   ],
   "source": [
    "graph.degrees.show()"
   ]
  },
  {
   "cell_type": "markdown",
   "metadata": {},
   "source": [
    "#### PageRank\n",
    "____"
   ]
  },
  {
   "cell_type": "code",
   "execution_count": 13,
   "metadata": {},
   "outputs": [],
   "source": [
    "ranks = graph.pageRank(resetProbability=0.15, maxIter=30)"
   ]
  },
  {
   "cell_type": "code",
   "execution_count": 14,
   "metadata": {},
   "outputs": [
    {
     "name": "stdout",
     "output_type": "stream",
     "text": [
      "root\n",
      " |-- id: string (nullable = true)\n",
      " |-- name: string (nullable = true)\n",
      " |-- pagerank: double (nullable = true)\n",
      "\n"
     ]
    }
   ],
   "source": [
    "ranks.vertices.printSchema()"
   ]
  },
  {
   "cell_type": "code",
   "execution_count": 15,
   "metadata": {},
   "outputs": [
    {
     "name": "stdout",
     "output_type": "stream",
     "text": [
      "+---+------------------+\n",
      "| id|          pagerank|\n",
      "+---+------------------+\n",
      "|  4|1.4772988621034329|\n",
      "|  3|1.1559608107498358|\n",
      "|  2|0.8111910907636817|\n",
      "|  1|0.7777746181915253|\n",
      "|  5|0.7777746181915253|\n",
      "+---+------------------+\n",
      "\n"
     ]
    }
   ],
   "source": [
    "ranks.vertices.orderBy(desc('pagerank')).select('id', 'pagerank').show()"
   ]
  },
  {
   "cell_type": "code",
   "execution_count": 16,
   "metadata": {},
   "outputs": [
    {
     "name": "stdout",
     "output_type": "stream",
     "text": [
      "+---+---------+------------------+-------------------+\n",
      "| id|     name|          pagerank|          perc_rank|\n",
      "+---+---------+------------------+-------------------+\n",
      "|  1|vertice_1|0.7777746181915253|  0.155554923638305|\n",
      "|  3|vertice_3|1.1559608107498358|0.23119216214996707|\n",
      "|  2|vertice_2|0.8111910907636817|0.16223821815273629|\n",
      "|  4|vertice_4|1.4772988621034329| 0.2954597724206865|\n",
      "|  5|vertice_5|0.7777746181915253|  0.155554923638305|\n",
      "+---+---------+------------------+-------------------+\n",
      "\n"
     ]
    }
   ],
   "source": [
    "sum_pr = ranks.vertices.select('pagerank').agg({'pagerank': 'sum'}).collect()[0][0]    \n",
    "\n",
    "ranks.vertices.withColumn(\"perc_rank\", ranks.vertices.pagerank/sum_pr).show()"
   ]
  },
  {
   "cell_type": "markdown",
   "metadata": {},
   "source": [
    "#### Save To Disk\n",
    "______"
   ]
  },
  {
   "cell_type": "code",
   "execution_count": 19,
   "metadata": {},
   "outputs": [],
   "source": [
    "ranks.vertices.write.format(\"csv\").save(\"../output/graphframe_page_rank\")"
   ]
  },
  {
   "cell_type": "code",
   "execution_count": null,
   "metadata": {},
   "outputs": [],
   "source": []
  }
 ],
 "metadata": {
  "kernelspec": {
   "display_name": "Python 3",
   "language": "python",
   "name": "python3"
  },
  "language_info": {
   "codemirror_mode": {
    "name": "ipython",
    "version": 3
   },
   "file_extension": ".py",
   "mimetype": "text/x-python",
   "name": "python",
   "nbconvert_exporter": "python",
   "pygments_lexer": "ipython3",
   "version": "3.6.8"
  }
 },
 "nbformat": 4,
 "nbformat_minor": 4
}
