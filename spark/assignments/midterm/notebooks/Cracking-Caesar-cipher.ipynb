{
 "cells": [
  {
   "cell_type": "markdown",
   "metadata": {},
   "source": [
    "### Dependencies\n",
    "___"
   ]
  },
  {
   "cell_type": "code",
   "execution_count": 4,
   "metadata": {},
   "outputs": [],
   "source": [
    "import re\n",
    "import pandas as pd\n",
    "import seaborn as sns\n",
    "import matplotlib.pyplot as plt\n",
    "import nltk\n",
    "\n",
    "from nltk.corpus import words\n",
    "from matplotlib import rcParams\n",
    "\n",
    "%matplotlib inline"
   ]
  },
  {
   "cell_type": "markdown",
   "metadata": {},
   "source": [
    "### Default ploting style\n",
    "_____"
   ]
  },
  {
   "cell_type": "code",
   "execution_count": 5,
   "metadata": {},
   "outputs": [],
   "source": [
    "sns.set(style=\"whitegrid\")\n",
    "sns.set(rc={'figure.figsize':(20,6)})"
   ]
  },
  {
   "cell_type": "markdown",
   "metadata": {},
   "source": [
    "### Support Functions\n",
    "________________\n"
   ]
  },
  {
   "cell_type": "code",
   "execution_count": 6,
   "metadata": {},
   "outputs": [],
   "source": [
    "def get_shifted_letter(new_key, letter):\n",
    "    \n",
    "    cypher_alpha = \"ABCDEFGHIJKLMNOPQRSTUVWXYZ\"\n",
    "\n",
    "    return (cypher_alpha[new_key] if letter in cypher_alpha else letter)    \n",
    "\n",
    "def encrypt(key, message):\n",
    "    cypher_alpha = \"ABCDEFGHIJKLMNOPQRSTUVWXYZ\"\n",
    "\n",
    "    message = message.upper()\n",
    "    result = \"\"\n",
    "\n",
    "    for letter in message:\n",
    "        new_key = (cypher_alpha.find(letter) + key) % len(cypher_alpha)\n",
    "        result = result + get_shifted_letter(new_key, letter)\n",
    "\n",
    "    return result\n",
    "\n",
    "def decrypt(key, message):\n",
    "    cypher_alpha = \"ABCDEFGHIJKLMNOPQRSTUVWXYZ\"\n",
    "\n",
    "    message = message.upper()\n",
    "    result = \"\"\n",
    "\n",
    "    for letter in message:\n",
    "        new_key = (cypher_alpha.find(letter) - key) % len(cypher_alpha)\n",
    "        result = result + get_shifted_letter(new_key, letter)\n",
    "\n",
    "    return result\n"
   ]
  },
  {
   "cell_type": "markdown",
   "metadata": {},
   "source": [
    "### Natural Language Toolkit Dictionary\n",
    "____"
   ]
  },
  {
   "cell_type": "code",
   "execution_count": 7,
   "metadata": {},
   "outputs": [
    {
     "name": "stderr",
     "output_type": "stream",
     "text": [
      "[nltk_data] Downloading package words to /home/spark/nltk_data...\n",
      "[nltk_data]   Package words is already up-to-date!\n"
     ]
    },
    {
     "data": {
      "text/plain": [
       "True"
      ]
     },
     "execution_count": 7,
     "metadata": {},
     "output_type": "execute_result"
    }
   ],
   "source": [
    "nltk.download('words')"
   ]
  },
  {
   "cell_type": "markdown",
   "metadata": {},
   "source": [
    "## Load letter frequency report file (Encrypted-1.txt)\n",
    "_______________\n"
   ]
  },
  {
   "cell_type": "code",
   "execution_count": 8,
   "metadata": {},
   "outputs": [
    {
     "data": {
      "text/html": [
       "<div>\n",
       "<style scoped>\n",
       "    .dataframe tbody tr th:only-of-type {\n",
       "        vertical-align: middle;\n",
       "    }\n",
       "\n",
       "    .dataframe tbody tr th {\n",
       "        vertical-align: top;\n",
       "    }\n",
       "\n",
       "    .dataframe thead th {\n",
       "        text-align: right;\n",
       "    }\n",
       "</style>\n",
       "<table border=\"1\" class=\"dataframe\">\n",
       "  <thead>\n",
       "    <tr style=\"text-align: right;\">\n",
       "      <th></th>\n",
       "      <th>letter</th>\n",
       "      <th>percentage</th>\n",
       "      <th>occurrences</th>\n",
       "      <th>representations</th>\n",
       "    </tr>\n",
       "  </thead>\n",
       "  <tbody>\n",
       "    <tr>\n",
       "      <th>0</th>\n",
       "      <td>C</td>\n",
       "      <td>0.031683</td>\n",
       "      <td>2135</td>\n",
       "      <td>C</td>\n",
       "    </tr>\n",
       "    <tr>\n",
       "      <th>1</th>\n",
       "      <td>N</td>\n",
       "      <td>0.061482</td>\n",
       "      <td>4143</td>\n",
       "      <td>N</td>\n",
       "    </tr>\n",
       "    <tr>\n",
       "      <th>2</th>\n",
       "      <td>E</td>\n",
       "      <td>0.051257</td>\n",
       "      <td>3454</td>\n",
       "      <td>E</td>\n",
       "    </tr>\n",
       "    <tr>\n",
       "      <th>3</th>\n",
       "      <td>G</td>\n",
       "      <td>0.066052</td>\n",
       "      <td>4451</td>\n",
       "      <td>G</td>\n",
       "    </tr>\n",
       "    <tr>\n",
       "      <th>4</th>\n",
       "      <td>V</td>\n",
       "      <td>0.052964</td>\n",
       "      <td>3569</td>\n",
       "      <td>V</td>\n",
       "    </tr>\n",
       "  </tbody>\n",
       "</table>\n",
       "</div>"
      ],
      "text/plain": [
       "  letter  percentage  occurrences representations\n",
       "0      C    0.031683         2135               C\n",
       "1      N    0.061482         4143               N\n",
       "2      E    0.051257         3454               E\n",
       "3      G    0.066052         4451               G\n",
       "4      V    0.052964         3569               V"
      ]
     },
     "execution_count": 8,
     "metadata": {},
     "output_type": "execute_result"
    }
   ],
   "source": [
    "dataset = \"../resources/Encrypted-1_frequency_letters.csv\"\n",
    "\n",
    "letters = pd.read_csv(dataset)\n",
    "letters.head(5)"
   ]
  },
  {
   "cell_type": "markdown",
   "metadata": {},
   "source": [
    "### Filtering and Sorting the dataset\n",
    "______"
   ]
  },
  {
   "cell_type": "code",
   "execution_count": 9,
   "metadata": {},
   "outputs": [],
   "source": [
    "cond = letters['letter'].str.contains('[A-Z]')\n",
    "ceaser_letters = letters[cond].copy(deep=True)\n",
    "\n",
    "ceaser_letters.sort_values(by=['occurrences'],ascending=False, inplace=True)"
   ]
  },
  {
   "cell_type": "markdown",
   "metadata": {},
   "source": [
    "### Load English letter frequency datasource\n",
    "_______________\n"
   ]
  },
  {
   "cell_type": "code",
   "execution_count": 10,
   "metadata": {},
   "outputs": [
    {
     "data": {
      "text/html": [
       "<div>\n",
       "<style scoped>\n",
       "    .dataframe tbody tr th:only-of-type {\n",
       "        vertical-align: middle;\n",
       "    }\n",
       "\n",
       "    .dataframe tbody tr th {\n",
       "        vertical-align: top;\n",
       "    }\n",
       "\n",
       "    .dataframe thead th {\n",
       "        text-align: right;\n",
       "    }\n",
       "</style>\n",
       "<table border=\"1\" class=\"dataframe\">\n",
       "  <thead>\n",
       "    <tr style=\"text-align: right;\">\n",
       "      <th></th>\n",
       "      <th>letter</th>\n",
       "      <th>count</th>\n",
       "    </tr>\n",
       "  </thead>\n",
       "  <tbody>\n",
       "    <tr>\n",
       "      <th>0</th>\n",
       "      <td>E</td>\n",
       "      <td>21912</td>\n",
       "    </tr>\n",
       "    <tr>\n",
       "      <th>1</th>\n",
       "      <td>T</td>\n",
       "      <td>16587</td>\n",
       "    </tr>\n",
       "    <tr>\n",
       "      <th>2</th>\n",
       "      <td>A</td>\n",
       "      <td>14810</td>\n",
       "    </tr>\n",
       "    <tr>\n",
       "      <th>3</th>\n",
       "      <td>O</td>\n",
       "      <td>14003</td>\n",
       "    </tr>\n",
       "    <tr>\n",
       "      <th>4</th>\n",
       "      <td>I</td>\n",
       "      <td>13318</td>\n",
       "    </tr>\n",
       "  </tbody>\n",
       "</table>\n",
       "</div>"
      ],
      "text/plain": [
       "  letter  count\n",
       "0      E  21912\n",
       "1      T  16587\n",
       "2      A  14810\n",
       "3      O  14003\n",
       "4      I  13318"
      ]
     },
     "execution_count": 10,
     "metadata": {},
     "output_type": "execute_result"
    }
   ],
   "source": [
    "dataset = \"../resources/letter_frequency_en_US.csv\"\n",
    "\n",
    "en_letters = pd.read_csv(dataset)\n",
    "en_letters.head(5)"
   ]
  },
  {
   "cell_type": "markdown",
   "metadata": {},
   "source": [
    "### Plot letter analysis\n",
    "_____"
   ]
  },
  {
   "cell_type": "code",
   "execution_count": 11,
   "metadata": {},
   "outputs": [
    {
     "data": {
      "image/png": "[encoded data removed]",
      "text/plain": [
       "<Figure size 1440x432 with 2 Axes>"
      ]
     },
     "metadata": {},
     "output_type": "display_data"
    }
   ],
   "source": [
    "fig, ax = plt.subplots(1, 2)\n",
    "\n",
    "fig.suptitle('Letter frequencies analysis (Encrypted-1.txt)')\n",
    "\n",
    "ax[0].set_title('US English Letter Frequency')\n",
    "ax[1].set_title('Encoded Document Letter Frequency')\n",
    "\n",
    "sns.barplot(x='letter', y='count', data=en_letters, ax=ax[0])\n",
    "sns.barplot(x='letter', y='occurrences', data=ceaser_letters, ax=ax[1])\n",
    "\n",
    "fig.tight_layout()\n",
    "\n",
    "fig.savefig('../output/images/frequencies_analysis_Encrypted-1.png')"
   ]
  },
  {
   "cell_type": "code",
   "execution_count": 157,
   "metadata": {},
   "outputs": [
    {
     "name": "stdout",
     "output_type": "stream",
     "text": [
      "Shift of the most frequency letter : 13\n"
     ]
    }
   ],
   "source": [
    "print (f\"Shift of the most frequency letter : {ord(ceaser_letters['letter'].head(1).values[0]) - ord(en_letters['letter'].head(1).values[0])}\")"
   ]
  },
  {
   "cell_type": "markdown",
   "metadata": {},
   "source": [
    "### Decoding a sample string using key size provided by the plot\n",
    "________"
   ]
  },
  {
   "cell_type": "code",
   "execution_count": 12,
   "metadata": {},
   "outputs": [
    {
     "name": "stdout",
     "output_type": "stream",
     "text": [
      "PARTICULAR PERIOD OF FLAKINESS ON IBM\n"
     ]
    }
   ],
   "source": [
    "sample = \"CNEGVPHYNE CREVBQ BS SYNXVARFF BA VOZ\"\n",
    "\n",
    "print(decrypt(13, sample))"
   ]
  },
  {
   "cell_type": "markdown",
   "metadata": {},
   "source": [
    "## Load letter frequency report file (Encrypted-2.txt)\n",
    "_______________"
   ]
  },
  {
   "cell_type": "code",
   "execution_count": 13,
   "metadata": {},
   "outputs": [
    {
     "data": {
      "text/html": [
       "<div>\n",
       "<style scoped>\n",
       "    .dataframe tbody tr th:only-of-type {\n",
       "        vertical-align: middle;\n",
       "    }\n",
       "\n",
       "    .dataframe tbody tr th {\n",
       "        vertical-align: top;\n",
       "    }\n",
       "\n",
       "    .dataframe thead th {\n",
       "        text-align: right;\n",
       "    }\n",
       "</style>\n",
       "<table border=\"1\" class=\"dataframe\">\n",
       "  <thead>\n",
       "    <tr style=\"text-align: right;\">\n",
       "      <th></th>\n",
       "      <th>letter</th>\n",
       "      <th>percentage</th>\n",
       "      <th>occurrences</th>\n",
       "      <th>representations</th>\n",
       "    </tr>\n",
       "  </thead>\n",
       "  <tbody>\n",
       "    <tr>\n",
       "      <th>0</th>\n",
       "      <td>M</td>\n",
       "      <td>0.091786</td>\n",
       "      <td>9131</td>\n",
       "      <td>M</td>\n",
       "    </tr>\n",
       "    <tr>\n",
       "      <th>1</th>\n",
       "      <td>B</td>\n",
       "      <td>0.070355</td>\n",
       "      <td>6999</td>\n",
       "      <td>B</td>\n",
       "    </tr>\n",
       "    <tr>\n",
       "      <th>2</th>\n",
       "      <td>F</td>\n",
       "      <td>0.023633</td>\n",
       "      <td>2351</td>\n",
       "      <td>F</td>\n",
       "    </tr>\n",
       "    <tr>\n",
       "      <th>3</th>\n",
       "      <td>X</td>\n",
       "      <td>0.129180</td>\n",
       "      <td>12851</td>\n",
       "      <td>X</td>\n",
       "    </tr>\n",
       "    <tr>\n",
       "      <th>4</th>\n",
       "      <td>L</td>\n",
       "      <td>0.064696</td>\n",
       "      <td>6436</td>\n",
       "      <td>L</td>\n",
       "    </tr>\n",
       "  </tbody>\n",
       "</table>\n",
       "</div>"
      ],
      "text/plain": [
       "  letter  percentage  occurrences representations\n",
       "0      M    0.091786         9131               M\n",
       "1      B    0.070355         6999               B\n",
       "2      F    0.023633         2351               F\n",
       "3      X    0.129180        12851               X\n",
       "4      L    0.064696         6436               L"
      ]
     },
     "execution_count": 13,
     "metadata": {},
     "output_type": "execute_result"
    }
   ],
   "source": [
    "dataset = \"../resources/Encrypted-2_frequency_letters.csv\"\n",
    "\n",
    "letters = pd.read_csv(dataset)\n",
    "letters.head(5)"
   ]
  },
  {
   "cell_type": "markdown",
   "metadata": {},
   "source": [
    "### Filtering and Sorting the dataset\n",
    "______"
   ]
  },
  {
   "cell_type": "code",
   "execution_count": 14,
   "metadata": {},
   "outputs": [],
   "source": [
    "cond = letters['letter'].str.contains('[A-Z]')\n",
    "ceaser_letters = letters[cond].copy(deep=True)\n",
    "\n",
    "ceaser_letters.sort_values(by=['occurrences'],ascending=False, inplace=True)"
   ]
  },
  {
   "cell_type": "markdown",
   "metadata": {},
   "source": [
    "### Plotting letter analysis\n",
    "_____"
   ]
  },
  {
   "cell_type": "code",
   "execution_count": 15,
   "metadata": {},
   "outputs": [
    {
     "data": {
      "image/png": "[encoded data removed]",
      "text/plain": [
       "<Figure size 1440x432 with 2 Axes>"
      ]
     },
     "metadata": {},
     "output_type": "display_data"
    }
   ],
   "source": [
    "fig, bx = plt.subplots(1, 2)\n",
    "\n",
    "fig.suptitle('Letter frequencies analysis (Encrypted-2.txt)')\n",
    "\n",
    "bx[0].set_title('US English Letter Frequency')\n",
    "bx[1].set_title('Encoded Document Letter Frequency')\n",
    "\n",
    "sns.barplot(x='letter', y='count', data=en_letters, ax=bx[0])\n",
    "sns.barplot(x='letter', y='occurrences', data=ceaser_letters, ax=bx[1])\n",
    "\n",
    "fig.tight_layout()\n",
    "\n",
    "fig.savefig('../output/images/frequencies_analysis_Encrypted-2.png')"
   ]
  },
  {
   "cell_type": "code",
   "execution_count": 16,
   "metadata": {},
   "outputs": [
    {
     "name": "stdout",
     "output_type": "stream",
     "text": [
      "Shift of the most frequency letter : 19\n"
     ]
    }
   ],
   "source": [
    "print (f\"Shift of the most frequency letter : {ord(ceaser_letters['letter'].head(1).values[0]) - ord(en_letters['letter'].head(1).values[0])}\")"
   ]
  },
  {
   "cell_type": "markdown",
   "metadata": {},
   "source": [
    "### Decoding a sample string using key size provided by the plot\n",
    "________"
   ]
  },
  {
   "cell_type": "code",
   "execution_count": 17,
   "metadata": {},
   "outputs": [
    {
     "name": "stdout",
     "output_type": "stream",
     "text": [
      "AMONGST THOSE I HAD OCCASION TO CALL ON AT ST.\n"
     ]
    }
   ],
   "source": [
    "sample = \"TFHGZLM MAHLX B ATW HVVTLBHG MH VTEE HG TM LM.\"\n",
    "\n",
    "print(decrypt(19, sample))"
   ]
  },
  {
   "cell_type": "markdown",
   "metadata": {},
   "source": [
    "## Loading letter frequency report file (Encrypted-3.txt)\n",
    "_______________"
   ]
  },
  {
   "cell_type": "code",
   "execution_count": 18,
   "metadata": {},
   "outputs": [
    {
     "data": {
      "text/html": [
       "<div>\n",
       "<style scoped>\n",
       "    .dataframe tbody tr th:only-of-type {\n",
       "        vertical-align: middle;\n",
       "    }\n",
       "\n",
       "    .dataframe tbody tr th {\n",
       "        vertical-align: top;\n",
       "    }\n",
       "\n",
       "    .dataframe thead th {\n",
       "        text-align: right;\n",
       "    }\n",
       "</style>\n",
       "<table border=\"1\" class=\"dataframe\">\n",
       "  <thead>\n",
       "    <tr style=\"text-align: right;\">\n",
       "      <th></th>\n",
       "      <th>letter</th>\n",
       "      <th>percentage</th>\n",
       "      <th>occurrences</th>\n",
       "      <th>representations</th>\n",
       "    </tr>\n",
       "  </thead>\n",
       "  <tbody>\n",
       "    <tr>\n",
       "      <th>0</th>\n",
       "      <td>O</td>\n",
       "      <td>0.002932</td>\n",
       "      <td>58</td>\n",
       "      <td>O</td>\n",
       "    </tr>\n",
       "    <tr>\n",
       "      <th>1</th>\n",
       "      <td>T</td>\n",
       "      <td>0.074924</td>\n",
       "      <td>1482</td>\n",
       "      <td>T</td>\n",
       "    </tr>\n",
       "    <tr>\n",
       "      <th>2</th>\n",
       "      <td>W</td>\n",
       "      <td>0.050000</td>\n",
       "      <td>989</td>\n",
       "      <td>W</td>\n",
       "    </tr>\n",
       "    <tr>\n",
       "      <th>3</th>\n",
       "      <td>I</td>\n",
       "      <td>0.040091</td>\n",
       "      <td>793</td>\n",
       "      <td>I</td>\n",
       "    </tr>\n",
       "    <tr>\n",
       "      <th>4</th>\n",
       "      <td>F</td>\n",
       "      <td>0.087563</td>\n",
       "      <td>1732</td>\n",
       "      <td>F</td>\n",
       "    </tr>\n",
       "  </tbody>\n",
       "</table>\n",
       "</div>"
      ],
      "text/plain": [
       "  letter  percentage  occurrences representations\n",
       "0      O    0.002932           58               O\n",
       "1      T    0.074924         1482               T\n",
       "2      W    0.050000          989               W\n",
       "3      I    0.040091          793               I\n",
       "4      F    0.087563         1732               F"
      ]
     },
     "execution_count": 18,
     "metadata": {},
     "output_type": "execute_result"
    }
   ],
   "source": [
    "dataset = \"../resources/Encrypted-3_frequency_letters.csv\"\n",
    "\n",
    "letters = pd.read_csv(dataset)\n",
    "letters.head(5)"
   ]
  },
  {
   "cell_type": "markdown",
   "metadata": {},
   "source": [
    "### Filtering and Sorting the dataset\n",
    "______"
   ]
  },
  {
   "cell_type": "code",
   "execution_count": 19,
   "metadata": {},
   "outputs": [],
   "source": [
    "cond = letters['letter'].str.contains('[A-Z]')\n",
    "ceaser_letters = letters[cond].copy(deep=True)\n",
    "\n",
    "ceaser_letters.sort_values(by=['occurrences'],ascending=False, inplace=True)"
   ]
  },
  {
   "cell_type": "markdown",
   "metadata": {},
   "source": [
    "### Plotting letter analysis\n",
    "_____"
   ]
  },
  {
   "cell_type": "code",
   "execution_count": 21,
   "metadata": {},
   "outputs": [
    {
     "data": {
      "image/png": "[encoded data removed]",
      "text/plain": [
       "<Figure size 1440x432 with 2 Axes>"
      ]
     },
     "metadata": {},
     "output_type": "display_data"
    }
   ],
   "source": [
    "fig, cx = plt.subplots(1, 2)\n",
    "\n",
    "fig.suptitle('Letter frequencies analysis (Encrypted-3.txt)')\n",
    "\n",
    "cx[0].set_title('US English Letter Frequency')\n",
    "cx[1].set_title('Encoded Document Letter Frequency')\n",
    "\n",
    "sns.barplot(x='letter', y='count', data=en_letters, ax=cx[0])\n",
    "sns.barplot(x='letter', y='occurrences', data=ceaser_letters, ax=cx[1])\n",
    "\n",
    "fig.tight_layout()\n",
    "\n",
    "fig.savefig('../output/images/frequencies_analysis_Encrypted-3.png')"
   ]
  },
  {
   "cell_type": "code",
   "execution_count": 22,
   "metadata": {},
   "outputs": [
    {
     "name": "stdout",
     "output_type": "stream",
     "text": [
      "Shift of the most frequency letter : 5\n"
     ]
    }
   ],
   "source": [
    "print (f\"Shift of the most frequency letter : {ord(ceaser_letters['letter'].head(1).values[0]) - ord(en_letters['letter'].head(1).values[0])}\")"
   ]
  },
  {
   "cell_type": "markdown",
   "metadata": {},
   "source": [
    "### Decoding a sample string using key size provided by the plot\n",
    "________"
   ]
  },
  {
   "cell_type": "code",
   "execution_count": 194,
   "metadata": {},
   "outputs": [
    {
     "name": "stdout",
     "output_type": "stream",
     "text": [
      "AS NICK'S TAXI GROANS AWAY, GATSBY APPEARS STRIDING THROUGH\n"
     ]
    }
   ],
   "source": [
    "sample = \"FX SNHP'X YFCN LWTFSX FBFD, LFYXGD FUUJFWX XYWNINSL YMWTZLM\"\n",
    "\n",
    "print(decrypt(5, sample))"
   ]
  }
 ],
 "metadata": {
  "kernelspec": {
   "display_name": "Python 3",
   "language": "python",
   "name": "python3"
  },
  "language_info": {
   "codemirror_mode": {
    "name": "ipython",
    "version": 3
   },
   "file_extension": ".py",
   "mimetype": "text/x-python",
   "name": "python",
   "nbconvert_exporter": "python",
   "pygments_lexer": "ipython3",
   "version": "3.6.8"
  }
 },
 "nbformat": 4,
 "nbformat_minor": 4
}
