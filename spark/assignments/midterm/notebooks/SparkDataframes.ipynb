{
 "cells": [
  {
   "cell_type": "markdown",
   "metadata": {},
   "source": [
    "### Dependencies\n",
    "____"
   ]
  },
  {
   "cell_type": "code",
   "execution_count": 14,
   "metadata": {},
   "outputs": [],
   "source": [
    "from pyspark.sql import SparkSession\n",
    "from pyspark.sql.functions import upper\n",
    "\n",
    "import pandas as pd"
   ]
  },
  {
   "cell_type": "markdown",
   "metadata": {},
   "source": [
    "### Create Spark Session\n",
    "_____"
   ]
  },
  {
   "cell_type": "code",
   "execution_count": 2,
   "metadata": {},
   "outputs": [],
   "source": [
    "spark = SparkSession.builder.appName('caesar-cipher').getOrCreate()"
   ]
  },
  {
   "cell_type": "markdown",
   "metadata": {},
   "source": [
    "#### Create DataFrame\n",
    "______"
   ]
  },
  {
   "cell_type": "code",
   "execution_count": 5,
   "metadata": {},
   "outputs": [
    {
     "name": "stdout",
     "output_type": "stream",
     "text": [
      "root\n",
      " |-- letter: string (nullable = true)\n",
      " |-- count: integer (nullable = true)\n",
      "\n"
     ]
    }
   ],
   "source": [
    "csv_file=\"../resources/letter_frequency_en_US.csv\"\n",
    "\n",
    "df = spark.read.csv(path=csv_file, inferSchema=True, header=True)\n",
    "df.printSchema()"
   ]
  },
  {
   "cell_type": "code",
   "execution_count": 6,
   "metadata": {},
   "outputs": [
    {
     "name": "stdout",
     "output_type": "stream",
     "text": [
      "+------+-----+\n",
      "|letter|count|\n",
      "+------+-----+\n",
      "|     E|21912|\n",
      "|     T|16587|\n",
      "|     A|14810|\n",
      "|     O|14003|\n",
      "|     I|13318|\n",
      "|     N|12666|\n",
      "|     S|11450|\n",
      "|     R|10977|\n",
      "|     H|10795|\n",
      "|     D| 7874|\n",
      "|     L| 7253|\n",
      "|     U| 5246|\n",
      "|     C| 4943|\n",
      "|     M| 4761|\n",
      "|     F| 4200|\n",
      "|     Y| 3853|\n",
      "|     W| 3819|\n",
      "|     G| 3693|\n",
      "|     P| 3316|\n",
      "|     B| 2715|\n",
      "+------+-----+\n",
      "only showing top 20 rows\n",
      "\n"
     ]
    }
   ],
   "source": [
    "df.show()"
   ]
  },
  {
   "cell_type": "code",
   "execution_count": 7,
   "metadata": {},
   "outputs": [
    {
     "name": "stdout",
     "output_type": "stream",
     "text": [
      "+------+-----+\n",
      "|letter|count|\n",
      "+------+-----+\n",
      "|     E|21912|\n",
      "|     A|14810|\n",
      "|     D| 7874|\n",
      "|     C| 4943|\n",
      "|     B| 2715|\n",
      "+------+-----+\n",
      "\n"
     ]
    }
   ],
   "source": [
    "df.filter(df['letter'].rlike('[A-E]')).show()"
   ]
  },
  {
   "cell_type": "code",
   "execution_count": 8,
   "metadata": {},
   "outputs": [
    {
     "name": "stdout",
     "output_type": "stream",
     "text": [
      "+------+-----+\n",
      "|letter|count|\n",
      "+------+-----+\n",
      "|     E|21912|\n",
      "|     T|16587|\n",
      "|     A|14810|\n",
      "|     O|14003|\n",
      "|     I|13318|\n",
      "|     N|12666|\n",
      "|     S|11450|\n",
      "|     R|10977|\n",
      "|     H|10795|\n",
      "|     D| 7874|\n",
      "|     L| 7253|\n",
      "|     U| 5246|\n",
      "|     C| 4943|\n",
      "|     M| 4761|\n",
      "|     F| 4200|\n",
      "|     Y| 3853|\n",
      "|     W| 3819|\n",
      "|     G| 3693|\n",
      "|     P| 3316|\n",
      "|     B| 2715|\n",
      "+------+-----+\n",
      "only showing top 20 rows\n",
      "\n"
     ]
    }
   ],
   "source": [
    "#df.filter(df['letter'].rlike('[A-E]')).orderBy('count').show()\n",
    "#df.orderBy(df['Sales'].desc()).show()\n",
    "\n",
    "\n",
    "df.filter(df['letter'].rlike('[A-Z]')).orderBy(df['count'].desc()).show()"
   ]
  },
  {
   "cell_type": "markdown",
   "metadata": {},
   "source": [
    "### Pandas to Spark\n",
    "____"
   ]
  },
  {
   "cell_type": "code",
   "execution_count": 63,
   "metadata": {},
   "outputs": [
    {
     "name": "stdout",
     "output_type": "stream",
     "text": [
      "[Row(letter='R'), Row(letter='G'), Row(letter='B'), Row(letter='N'), Row(letter='A'), Row(letter='V'), Row(letter='F'), Row(letter='E'), Row(letter='C'), Row(letter='Y'), Row(letter='U'), Row(letter='P'), Row(letter='Q'), Row(letter='H'), Row(letter='Z'), Row(letter='T'), Row(letter='S'), Row(letter='O'), Row(letter='L'), Row(letter='J'), Row(letter='I'), Row(letter='X'), Row(letter='K'), Row(letter='W'), Row(letter='D'), Row(letter='M')]\n"
     ]
    }
   ],
   "source": [
    "freq_report     = \"../resources/Encrypted-1_frequency_letters.csv\"\n",
    "freq_en_letters = \"../resources/letter_frequency_en_US.csv\"\n",
    "\n",
    "\n",
    "\n",
    "letters = spark.read.csv(path=freq_report, inferSchema=True, header=True)\n",
    "#letters.filter(letters['letter'].rlike('[A-Z]')).orderBy(letters['count'].desc()).show()\n",
    "#letters.select(upper(letters['letter'])).alias('letter').show()\n",
    "\n",
    "\n",
    "#letters.withColumn('letter', upper(letters['letter'])).show()\n",
    "\n",
    "letters = letters.withColumn('letter', upper(letters['letter']))\n",
    "letters = letters.filter(letters['letter'].rlike('[A-Z]')).orderBy(letters['occurrences'].desc())\n",
    "print (letters.select('letter').collect())\n",
    "\n",
    "#for l in letters.select('letter').collect():\n",
    "    #print (l.asDict()['letter'])\n",
    "#    break\n",
    "    \n",
    "#letters.select('letter').collect()[0:2]\n",
    "\n",
    "#letters.count()\n",
    "\n",
    "#letter_list = [l.asDict()['letter'] for l in letters.select('letter').collect()]\n",
    "\n",
    "#print (letter_list)\n",
    "    \n"
   ]
  },
  {
   "cell_type": "code",
   "execution_count": 99,
   "metadata": {},
   "outputs": [],
   "source": [
    "freq_report     = \"../resources/Encrypted-1_frequency_letters.csv\"\n",
    "freq_en_letters = \"../resources/letter_frequency_en_US.csv\"\n",
    "\n",
    "def get_keys_decode_order(freq_report):\n",
    "    \n",
    "    prefer_keys_order = []\n",
    "\n",
    "    letters = spark.read.csv(path=freq_report, inferSchema=True, header=True)\n",
    "    letters = letters.withColumn('letter', upper(letters['letter']))\n",
    "    ceaser_letters = letters.filter(letters['letter'].rlike('[A-Z]')).orderBy(letters['occurrences'].desc())\n",
    "    ceaser_list = [l.asDict()['letter'] for l in ceaser_letters.select('letter').collect()]\n",
    "\n",
    "    en_letters = spark.read.csv(path=freq_en_letters, inferSchema=True, header=True)\n",
    "    en_letters = en_letters.withColumn('letter', upper(en_letters['letter']))\n",
    "    en_letters = en_letters.filter(en_letters['letter'].rlike('[A-Z]')).orderBy(en_letters['count'].desc())\n",
    "    en_letters_list = [l.asDict()['letter'] for l in en_letters.select('letter').collect()]    \n",
    "   \n",
    "    for i in range(len(en_letters_list)):\n",
    "        en_key  = en_letters_list[i]\n",
    "        dec_key = ceaser_list[i]\n",
    "        key_size = abs(ord(en_key) - ord(dec_key))\n",
    "        \n",
    "        prefer_keys_order.append(key_size)\n",
    "        \n",
    "        \n",
    "    decode_order  =  list(dict.fromkeys(prefer_keys_order))\n",
    "    missing_items = [x for x in range(26) if x not in decode_order]\n",
    "\n",
    "    return (decode_order + missing_items)\n"
   ]
  },
  {
   "cell_type": "code",
   "execution_count": 100,
   "metadata": {},
   "outputs": [
    {
     "name": "stdout",
     "output_type": "stream",
     "text": [
      "[13, 1, 8, 5, 21, 9, 14, 20, 4, 6, 0, 2, 3, 7, 10, 11, 12, 15, 16, 17, 18, 19, 22, 23, 24, 25]\n"
     ]
    }
   ],
   "source": [
    "print(get_keys_decode_order(freq_report))"
   ]
  },
  {
   "cell_type": "code",
   "execution_count": 86,
   "metadata": {},
   "outputs": [],
   "source": [
    "def old_get_keys_decode_order(freq_report):\n",
    "    prefer_keys_order = []\n",
    "\n",
    "    letters = pd.read_csv(freq_report)\n",
    "    cond = letters['letter'].str.contains('[A-Z]')\n",
    "    ceaser_letters = letters[cond].copy(deep=True)\n",
    "\n",
    "    ceaser_letters.sort_values(by=['occurrences'],ascending=False, inplace=True)\n",
    "\n",
    "    en_letters = pd.read_csv(freq_en_letters)\n",
    "    en_letters.sort_values(by=['count'],ascending=False, inplace=True)\n",
    "\n",
    "    for i in range(en_letters.shape[0]):\n",
    "        en_key   = en_letters['letter'].values[i]\n",
    "        dec_key  = ceaser_letters['letter'].values[i]    \n",
    "        key_size = abs(ord(dec_key) - ord(en_key))\n",
    "\n",
    "        prefer_keys_order.append(key_size)\n",
    "    \n",
    "    decode_order  =  list(dict.fromkeys(prefer_keys_order))\n",
    "    missing_items = [x for x in range(26) if x not in decode_order]\n",
    "\n",
    "    return (decode_order + missing_items)\n"
   ]
  },
  {
   "cell_type": "code",
   "execution_count": 87,
   "metadata": {},
   "outputs": [
    {
     "name": "stdout",
     "output_type": "stream",
     "text": [
      "[13, 1, 8, 5, 21, 9, 14, 20, 4, 6, 0, 2, 3, 7, 10, 11, 12, 15, 16, 17, 18, 19, 22, 23, 24, 25]\n"
     ]
    }
   ],
   "source": [
    "print(old_get_keys_decode_order(freq_report))"
   ]
  },
  {
   "cell_type": "code",
   "execution_count": 96,
   "metadata": {},
   "outputs": [
    {
     "name": "stdout",
     "output_type": "stream",
     "text": [
      "-24\n",
      "24\n",
      "2\n"
     ]
    }
   ],
   "source": [
    "# English : A\n",
    "# Encrypt : Y\n",
    "\n",
    "english='A'\n",
    "encrypt='Y'\n",
    "key = ord(english) - ord(encrypt)\n",
    "\n",
    "print (ord(english) - ord(encrypt))\n",
    "print (ord(encrypt) - ord(english))\n",
    "print (key%26)"
   ]
  },
  {
   "cell_type": "code",
   "execution_count": null,
   "metadata": {},
   "outputs": [],
   "source": []
  }
 ],
 "metadata": {
  "kernelspec": {
   "display_name": "Python 3",
   "language": "python",
   "name": "python3"
  },
  "language_info": {
   "codemirror_mode": {
    "name": "ipython",
    "version": 3
   },
   "file_extension": ".py",
   "mimetype": "text/x-python",
   "name": "python",
   "nbconvert_exporter": "python",
   "pygments_lexer": "ipython3",
   "version": "3.6.8"
  }
 },
 "nbformat": 4,
 "nbformat_minor": 4
}
