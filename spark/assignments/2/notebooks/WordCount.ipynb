{
 "cells": [
  {
   "cell_type": "markdown",
   "metadata": {},
   "source": [
    "#### **Dependencies**\n",
    "_____"
   ]
  },
  {
   "cell_type": "code",
   "execution_count": 9,
   "metadata": {},
   "outputs": [],
   "source": [
    "import re\n",
    "import json\n",
    "import csv\n",
    "\n",
    "from pyspark import SparkConf, SparkContext"
   ]
  },
  {
   "cell_type": "markdown",
   "metadata": {},
   "source": [
    "#### **Constants**\n",
    "_____"
   ]
  },
  {
   "cell_type": "code",
   "execution_count": 2,
   "metadata": {},
   "outputs": [],
   "source": [
    "DATASET  = 'resources/sample2.txt'\n",
    "REG_EXPR = \"'?([_-a-zA-z0-9']+)'?\""
   ]
  },
  {
   "cell_type": "code",
   "execution_count": null,
   "metadata": {},
   "outputs": [],
   "source": []
  },
  {
   "cell_type": "markdown",
   "metadata": {},
   "source": [
    "#### **Create Spark Session**\n",
    "_____"
   ]
  },
  {
   "cell_type": "code",
   "execution_count": 3,
   "metadata": {},
   "outputs": [],
   "source": [
    "conf = SparkConf().setMaster('local').setAppName('Assignment 2')\n",
    "sc = SparkContext(conf=conf)"
   ]
  },
  {
   "cell_type": "markdown",
   "metadata": {},
   "source": [
    "#### **Load input file**\n",
    "____"
   ]
  },
  {
   "cell_type": "code",
   "execution_count": 4,
   "metadata": {},
   "outputs": [],
   "source": [
    "rdd = sc.textFile(DATASET)"
   ]
  },
  {
   "cell_type": "markdown",
   "metadata": {},
   "source": [
    "#### **Word Split Function**\n",
    "____"
   ]
  },
  {
   "cell_type": "code",
   "execution_count": 5,
   "metadata": {},
   "outputs": [],
   "source": [
    "def split_word(content):\n",
    "    pattern = re.compile(r'{}'.format(REG_EXPR))\n",
    "    matches = pattern.finditer(content)\n",
    "    words   = []\n",
    "    \n",
    "    for match in matches:\n",
    "        words.append(match.group(0))\n",
    "    \n",
    "    return words"
   ]
  },
  {
   "cell_type": "markdown",
   "metadata": {},
   "source": [
    "#### **Count word occurrences and representations**\n",
    "____"
   ]
  },
  {
   "cell_type": "code",
   "execution_count": 6,
   "metadata": {},
   "outputs": [],
   "source": [
    "stats = {}\n",
    "total_words = 0\n",
    "\n",
    "for words in rdd.filter(lambda line: len(line.strip()) > 0).map(split_word).collect():\n",
    "    for word in words:\n",
    "        \n",
    "        total_words = total_words + 1\n",
    "        \n",
    "        word_key = word.strip().lower()\n",
    "        \n",
    "        if word_key in stats:\n",
    "            stats[word_key]['occurrences'] = stats[word_key]['occurrences'] + 1\n",
    "            \n",
    "            if not word in stats[word_key]['representations']:\n",
    "                stats[word_key]['representations'].append(word)\n",
    "                \n",
    "        else:\n",
    "            representations = []            \n",
    "            representations.append(word)\n",
    "            \n",
    "            record = {\n",
    "                \"occurrences\"     : 1, \n",
    "                \"representations\" : representations, \n",
    "            }\n",
    "            \n",
    "            stats[word_key] = record\n"
   ]
  },
  {
   "cell_type": "markdown",
   "metadata": {},
   "source": [
    "#### **Frequency Analysis**\n",
    "____"
   ]
  },
  {
   "cell_type": "code",
   "execution_count": 7,
   "metadata": {},
   "outputs": [
    {
     "name": "stdout",
     "output_type": "stream",
     "text": [
      "{\n",
      "    \"word\": {\n",
      "        \"occurrences\": 4,\n",
      "        \"representations\": [\n",
      "            \"word\",\n",
      "            \"Word\",\n",
      "            \"WoRd\"\n",
      "        ],\n",
      "        \"percentage\": 0.8\n",
      "    },\n",
      "    \"apple\": {\n",
      "        \"occurrences\": 1,\n",
      "        \"representations\": [\n",
      "            \"apple\"\n",
      "        ],\n",
      "        \"percentage\": 0.2\n",
      "    }\n",
      "}\n"
     ]
    }
   ],
   "source": [
    "for word in stats:\n",
    "    stats[word]['percentage'] = float(stats[word]['occurrences'] / total_words)\n",
    "\n",
    "print(json.dumps(stats,indent=4))  "
   ]
  },
  {
   "cell_type": "markdown",
   "metadata": {},
   "source": [
    "#### **Export Results as a CSV file**\n",
    "____"
   ]
  },
  {
   "cell_type": "code",
   "execution_count": 37,
   "metadata": {},
   "outputs": [],
   "source": [
    "field_names = ['word', 'percentage', 'occurrences', 'representations']\n",
    "\n",
    "with open(\"output.csv\", \"w\") as f:\n",
    "    writer = csv.DictWriter(f, fieldnames=field_names)\n",
    "    \n",
    "    writer.writeheader()\n",
    "    \n",
    "    for k,v in stats.items():\n",
    "        row = {\n",
    "            'word'            : k,\n",
    "            'percentage'      : v['percentage'],\n",
    "            'occurrences'     : v['occurrences'],\n",
    "            'representations' : \",\".join(v['representations'])\n",
    "        }\n",
    "        #{'occurrences': 4, 'representations': ['word', 'Word', 'WoRd'], 'percentage': 0.8}\n",
    "        #print(v)\n",
    "        \n",
    "        #row = {'word' : k}\n",
    "        #row.update(v)\n",
    "        \n",
    "        writer.writerow(row)\n",
    "    \n",
    "    \n",
    "    "
   ]
  },
  {
   "cell_type": "code",
   "execution_count": null,
   "metadata": {},
   "outputs": [],
   "source": []
  },
  {
   "cell_type": "code",
   "execution_count": null,
   "metadata": {},
   "outputs": [],
   "source": []
  },
  {
   "cell_type": "markdown",
   "metadata": {},
   "source": [
    "#### **Shutdown SparkSession**\n",
    "____"
   ]
  },
  {
   "cell_type": "code",
   "execution_count": 42,
   "metadata": {},
   "outputs": [],
   "source": [
    "sc.stop()"
   ]
  },
  {
   "cell_type": "code",
   "execution_count": null,
   "metadata": {},
   "outputs": [],
   "source": []
  }
 ],
 "metadata": {
  "kernelspec": {
   "display_name": "Python 3",
   "language": "python",
   "name": "python3"
  },
  "language_info": {
   "codemirror_mode": {
    "name": "ipython",
    "version": 3
   },
   "file_extension": ".py",
   "mimetype": "text/x-python",
   "name": "python",
   "nbconvert_exporter": "python",
   "pygments_lexer": "ipython3",
   "version": "3.6.8"
  }
 },
 "nbformat": 4,
 "nbformat_minor": 4
}
