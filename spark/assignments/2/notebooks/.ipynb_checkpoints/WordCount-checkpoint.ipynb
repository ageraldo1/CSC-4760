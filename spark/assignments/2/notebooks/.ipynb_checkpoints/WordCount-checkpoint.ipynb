{
 "cells": [
  {
   "cell_type": "markdown",
   "metadata": {},
   "source": [
    "#### **Dependencies**\n",
    "_____"
   ]
  },
  {
   "cell_type": "code",
   "execution_count": 1,
   "metadata": {},
   "outputs": [],
   "source": [
    "import re\n",
    "import json\n",
    "import csv\n",
    "\n",
    "from pyspark import SparkConf, SparkContext\n",
    "from collections import Counter"
   ]
  },
  {
   "cell_type": "markdown",
   "metadata": {},
   "source": [
    "#### **Constants**\n",
    "_____"
   ]
  },
  {
   "cell_type": "code",
   "execution_count": 2,
   "metadata": {},
   "outputs": [],
   "source": [
    "DATASET  = '../resources/sample2.txt'\n",
    "REG_EXPR = \"'?([_-a-zA-z0-9']+)'?\""
   ]
  },
  {
   "cell_type": "code",
   "execution_count": null,
   "metadata": {},
   "outputs": [],
   "source": []
  },
  {
   "cell_type": "markdown",
   "metadata": {},
   "source": [
    "#### **Create Spark Session**\n",
    "_____"
   ]
  },
  {
   "cell_type": "code",
   "execution_count": 3,
   "metadata": {},
   "outputs": [],
   "source": [
    "conf = SparkConf().setMaster('local').setAppName('Assignment 2')\n",
    "sc = SparkContext(conf=conf)"
   ]
  },
  {
   "cell_type": "markdown",
   "metadata": {},
   "source": [
    "#### **Load input file**\n",
    "____"
   ]
  },
  {
   "cell_type": "code",
   "execution_count": 4,
   "metadata": {},
   "outputs": [],
   "source": [
    "rdd = sc.textFile(DATASET)"
   ]
  },
  {
   "cell_type": "markdown",
   "metadata": {},
   "source": [
    "#### **Mapping Functions**\n",
    "____"
   ]
  },
  {
   "cell_type": "code",
   "execution_count": 5,
   "metadata": {},
   "outputs": [],
   "source": [
    "def split_word(content):\n",
    "    pattern = re.compile(r'{}'.format(REG_EXPR))\n",
    "    matches = pattern.finditer(content)\n",
    "    words   = []\n",
    "    \n",
    "    for match in matches:\n",
    "        words.append(match.group(0))\n",
    "    \n",
    "    return words"
   ]
  },
  {
   "cell_type": "code",
   "execution_count": null,
   "metadata": {},
   "outputs": [],
   "source": []
  },
  {
   "cell_type": "markdown",
   "metadata": {},
   "source": [
    "#### **Count word occurrences and representations**\n",
    "____"
   ]
  },
  {
   "cell_type": "code",
   "execution_count": 55,
   "metadata": {},
   "outputs": [
    {
     "data": {
      "text/plain": [
       "5"
      ]
     },
     "execution_count": 55,
     "metadata": {},
     "output_type": "execute_result"
    }
   ],
   "source": [
    "#for word in rdd.flatMap(split_word).collect():\n",
    "#    print (word)\n",
    "#    break\n",
    "#rdd.collect()\n",
    "\n",
    "#rdd.flatMap(split_word).collect()\n",
    "\n",
    "#print (Counter(rdd.flatMap(split_word).take(1)))\n",
    "\n",
    "#print(Counter(\"Adam Acosta\"))\n",
    "\n",
    "#print(type(rdd.flatMap(split_word).take(1)))\n",
    "\n",
    "#print(Counter(\"Adam Acosta abcd\"))\n",
    "\n",
    "\n",
    "\n",
    "### Solution\n",
    "#words = rdd.flatMap(split_word)\n",
    "#total_words = words.count()\n",
    "#words.map(lambda item: (item.strip().lower(), item)).countByKey()\n",
    "#words.map(lambda item: (item.strip().lower(), item)).reduceByKey(lambda k,v: k+\",\"+v).collect()\n",
    "\n"
   ]
  },
  {
   "cell_type": "code",
   "execution_count": 6,
   "metadata": {},
   "outputs": [
    {
     "name": "stdout",
     "output_type": "stream",
     "text": [
      "Key    : word\n",
      "Values : word,Word,word,WoRd,word,word,word\n",
      "Size :  7\n",
      "Percentage : 0.875\n",
      "Type of value : <class 'str'>\n",
      "Set of value : {'Word', 'word', 'WoRd'}\n",
      "\n",
      "Key    : apple\n",
      "Values : apple\n",
      "Size :  1\n",
      "Percentage : 0.125\n",
      "Type of value : <class 'str'>\n",
      "Set of value : {'apple'}\n",
      "\n"
     ]
    }
   ],
   "source": [
    "# filter all words inside the document\n",
    "words = rdd.flatMap(split_word)\n",
    "total_words = words.count()\n",
    "\n",
    "\n",
    "# foreach word\n",
    "for record in words.map(lambda item: (item.strip().lower(), item)).reduceByKey(lambda k,v: k+\",\"+v).collect():\n",
    "    #print(record)\n",
    "    print(f\"Key    : {record[0]}\")\n",
    "    print(f\"Values : {record[1]}\")\n",
    "    print(f\"Size :  {len(record[1].split(','))}\")\n",
    "    print(f\"Percentage : {len(record[1].split(','))/total_words}\")\n",
    "    print(f\"Type of value : {type(record[1])}\")\n",
    "    print(f\"Set of value : {set(record[1].split(','))}\")\n",
    "    print(\"\")\n",
    "\n"
   ]
  },
  {
   "cell_type": "code",
   "execution_count": 7,
   "metadata": {},
   "outputs": [
    {
     "data": {
      "text/plain": [
       "[('w', 'w,W,w,W,w,w,w'),\n",
       " ('o', 'o,o,o,o,o,o,o'),\n",
       " ('r', 'r,r,r,R,r,r,r'),\n",
       " ('d', 'd,d,d,d,d,d,d'),\n",
       " ('a', 'a'),\n",
       " ('p', 'p,p'),\n",
       " ('l', 'l'),\n",
       " ('e', 'e')]"
      ]
     },
     "execution_count": 7,
     "metadata": {},
     "output_type": "execute_result"
    }
   ],
   "source": [
    "words.flatMap(lambda word: word).map(lambda char: (char.lower(), char)).reduceByKey(lambda k,v: k+\",\"+v).collect()"
   ]
  },
  {
   "cell_type": "code",
   "execution_count": 10,
   "metadata": {},
   "outputs": [
    {
     "data": {
      "text/plain": [
       "33"
      ]
     },
     "execution_count": 10,
     "metadata": {},
     "output_type": "execute_result"
    }
   ],
   "source": [
    "words.flatMap(lambda word: word).count()"
   ]
  },
  {
   "cell_type": "code",
   "execution_count": 37,
   "metadata": {},
   "outputs": [],
   "source": [
    "stats = {}\n",
    "total_words = 0\n",
    "\n",
    "#for words in rdd.filter(lambda line: len(line.strip()) > 0).flatMap(split_word).collect():\n",
    "for words in rdd.flatMap(split_word).collect():\n",
    "    #for word in words:\n",
    "        \n",
    "    total_words = total_words + 1\n",
    "\n",
    "    word_key = words.strip().lower()\n",
    "\n",
    "    if word_key in stats:\n",
    "        stats[word_key]['occurrences'] = stats[word_key]['occurrences'] + 1\n",
    "\n",
    "        if not words in stats[word_key]['representations']:\n",
    "            stats[word_key]['representations'].append(words)\n",
    "\n",
    "    else:\n",
    "        representations = []            \n",
    "        representations.append(words) \n",
    "\n",
    "        record = {\n",
    "            \"occurrences\"     : 1, \n",
    "            \"representations\" : representations, \n",
    "        }\n",
    "\n",
    "        stats[word_key] = record\n"
   ]
  },
  {
   "cell_type": "markdown",
   "metadata": {},
   "source": [
    "#### **Frequency Analysis**\n",
    "____"
   ]
  },
  {
   "cell_type": "code",
   "execution_count": 38,
   "metadata": {},
   "outputs": [
    {
     "name": "stdout",
     "output_type": "stream",
     "text": [
      "{\n",
      "    \"this\": {\n",
      "        \"occurrences\": 4,\n",
      "        \"representations\": [\n",
      "            \"This\"\n",
      "        ],\n",
      "        \"percentage\": 0.15384615384615385\n",
      "    },\n",
      "    \"is\": {\n",
      "        \"occurrences\": 5,\n",
      "        \"representations\": [\n",
      "            \"is\"\n",
      "        ],\n",
      "        \"percentage\": 0.19230769230769232\n",
      "    },\n",
      "    \"line\": {\n",
      "        \"occurrences\": 5,\n",
      "        \"representations\": [\n",
      "            \"line\"\n",
      "        ],\n",
      "        \"percentage\": 0.19230769230769232\n",
      "    },\n",
      "    \"1\": {\n",
      "        \"occurrences\": 1,\n",
      "        \"representations\": [\n",
      "            \"1\"\n",
      "        ],\n",
      "        \"percentage\": 0.038461538461538464\n",
      "    },\n",
      "    \"2\": {\n",
      "        \"occurrences\": 1,\n",
      "        \"representations\": [\n",
      "            \"2\"\n",
      "        ],\n",
      "        \"percentage\": 0.038461538461538464\n",
      "    },\n",
      "    \"3\": {\n",
      "        \"occurrences\": 1,\n",
      "        \"representations\": [\n",
      "            \"3\"\n",
      "        ],\n",
      "        \"percentage\": 0.038461538461538464\n",
      "    },\n",
      "    \"5\": {\n",
      "        \"occurrences\": 1,\n",
      "        \"representations\": [\n",
      "            \"5\"\n",
      "        ],\n",
      "        \"percentage\": 0.038461538461538464\n",
      "    },\n",
      "    \"ops\": {\n",
      "        \"occurrences\": 1,\n",
      "        \"representations\": [\n",
      "            \"ops\"\n",
      "        ],\n",
      "        \"percentage\": 0.038461538461538464\n",
      "    },\n",
      "    \"it\": {\n",
      "        \"occurrences\": 1,\n",
      "        \"representations\": [\n",
      "            \"it\"\n",
      "        ],\n",
      "        \"percentage\": 0.038461538461538464\n",
      "    },\n",
      "    \"4\": {\n",
      "        \"occurrences\": 1,\n",
      "        \"representations\": [\n",
      "            \"4\"\n",
      "        ],\n",
      "        \"percentage\": 0.038461538461538464\n",
      "    },\n",
      "    \"actually\": {\n",
      "        \"occurrences\": 1,\n",
      "        \"representations\": [\n",
      "            \"actually\"\n",
      "        ],\n",
      "        \"percentage\": 0.038461538461538464\n",
      "    },\n",
      "    \"time\": {\n",
      "        \"occurrences\": 1,\n",
      "        \"representations\": [\n",
      "            \"Time\"\n",
      "        ],\n",
      "        \"percentage\": 0.038461538461538464\n",
      "    },\n",
      "    \"to\": {\n",
      "        \"occurrences\": 1,\n",
      "        \"representations\": [\n",
      "            \"to\"\n",
      "        ],\n",
      "        \"percentage\": 0.038461538461538464\n",
      "    },\n",
      "    \"end\": {\n",
      "        \"occurrences\": 1,\n",
      "        \"representations\": [\n",
      "            \"end\"\n",
      "        ],\n",
      "        \"percentage\": 0.038461538461538464\n",
      "    },\n",
      "    \"now\": {\n",
      "        \"occurrences\": 1,\n",
      "        \"representations\": [\n",
      "            \"now\"\n",
      "        ],\n",
      "        \"percentage\": 0.038461538461538464\n",
      "    }\n",
      "}\n"
     ]
    }
   ],
   "source": [
    "for word in stats:\n",
    "    stats[word]['percentage'] = float(stats[word]['occurrences'] / total_words)\n",
    "\n",
    "print(json.dumps(stats,indent=4))  "
   ]
  },
  {
   "cell_type": "markdown",
   "metadata": {},
   "source": [
    "#### **Export Results as a CSV file**\n",
    "____"
   ]
  },
  {
   "cell_type": "code",
   "execution_count": 37,
   "metadata": {},
   "outputs": [],
   "source": [
    "field_names = ['word', 'percentage', 'occurrences', 'representations']\n",
    "\n",
    "with open(\"output.csv\", \"w\") as f:\n",
    "    writer = csv.DictWriter(f, fieldnames=field_names)\n",
    "    \n",
    "    writer.writeheader()\n",
    "    \n",
    "    for k,v in stats.items():\n",
    "        row = {\n",
    "            'word'            : k,\n",
    "            'percentage'      : v['percentage'],\n",
    "            'occurrences'     : v['occurrences'],\n",
    "            'representations' : \",\".join(v['representations'])\n",
    "        }\n",
    "        #{'occurrences': 4, 'representations': ['word', 'Word', 'WoRd'], 'percentage': 0.8}\n",
    "        #print(v)\n",
    "        \n",
    "        #row = {'word' : k}\n",
    "        #row.update(v)\n",
    "        \n",
    "        writer.writerow(row)\n",
    "    \n",
    "    \n",
    "    "
   ]
  },
  {
   "cell_type": "code",
   "execution_count": null,
   "metadata": {},
   "outputs": [],
   "source": []
  },
  {
   "cell_type": "code",
   "execution_count": null,
   "metadata": {},
   "outputs": [],
   "source": []
  },
  {
   "cell_type": "markdown",
   "metadata": {},
   "source": [
    "#### **Shutdown SparkSession**\n",
    "____"
   ]
  },
  {
   "cell_type": "code",
   "execution_count": 42,
   "metadata": {},
   "outputs": [],
   "source": [
    "sc.stop()"
   ]
  },
  {
   "cell_type": "code",
   "execution_count": 11,
   "metadata": {},
   "outputs": [],
   "source": [
    "sample_dict = {\n",
    "    'name' : 'some name',\n",
    "    'age' : 100\n",
    "}"
   ]
  },
  {
   "cell_type": "code",
   "execution_count": 13,
   "metadata": {},
   "outputs": [
    {
     "name": "stdout",
     "output_type": "stream",
     "text": [
      "['__class__', '__contains__', '__delattr__', '__delitem__', '__dir__', '__doc__', '__eq__', '__format__', '__ge__', '__getattribute__', '__getitem__', '__gt__', '__hash__', '__init__', '__init_subclass__', '__iter__', '__le__', '__len__', '__lt__', '__ne__', '__new__', '__reduce__', '__reduce_ex__', '__repr__', '__setattr__', '__setitem__', '__sizeof__', '__str__', '__subclasshook__', 'clear', 'copy', 'fromkeys', 'get', 'items', 'keys', 'pop', 'popitem', 'setdefault', 'update', 'values']\n"
     ]
    }
   ],
   "source": [
    "print(dir(sample_dict))"
   ]
  },
  {
   "cell_type": "code",
   "execution_count": 17,
   "metadata": {},
   "outputs": [
    {
     "name": "stdout",
     "output_type": "stream",
     "text": [
      "['__repr__', '__hash__', '__getattribute__', '__lt__', '__le__', '__eq__', '__ne__', '__gt__', '__ge__', '__iter__', '__init__', '__len__', '__getitem__', '__setitem__', '__delitem__', '__contains__', '__new__', '__sizeof__', 'get', 'setdefault', 'pop', 'popitem', 'keys', 'items', 'values', 'update', 'fromkeys', 'clear', 'copy', '__doc__', '__str__', '__setattr__', '__delattr__', '__reduce_ex__', '__reduce__', '__subclasshook__', '__init_subclass__', '__format__', '__dir__', '__class__']\n"
     ]
    }
   ],
   "source": [
    "print(sample_dict.__dir__())"
   ]
  },
  {
   "cell_type": "code",
   "execution_count": 19,
   "metadata": {},
   "outputs": [
    {
     "data": {
      "text/plain": [
       "['/tmp/result', 'txt']"
      ]
     },
     "execution_count": 19,
     "metadata": {},
     "output_type": "execute_result"
    }
   ],
   "source": [
    "file_name=\"/tmp/result.txt\"\n",
    "\n",
    "file_name.split(\".\")"
   ]
  },
  {
   "cell_type": "code",
   "execution_count": 27,
   "metadata": {},
   "outputs": [
    {
     "data": {
      "text/plain": [
       "'/_word_stats_t_word_stats_m_word_stats_p_word_stats_/_word_stats_r_word_stats_e_word_stats_s_word_stats_u_word_stats_l_word_stats_t'"
      ]
     },
     "execution_count": 27,
     "metadata": {},
     "output_type": "execute_result"
    }
   ],
   "source": [
    "\"_word_stats_\".join(list(file_name.split(\".\")[0]))"
   ]
  },
  {
   "cell_type": "code",
   "execution_count": 25,
   "metadata": {},
   "outputs": [
    {
     "data": {
      "text/plain": [
       "'/tmp/result'"
      ]
     },
     "execution_count": 25,
     "metadata": {},
     "output_type": "execute_result"
    }
   ],
   "source": [
    "file_name.split(\".\")"
   ]
  },
  {
   "cell_type": "code",
   "execution_count": 30,
   "metadata": {},
   "outputs": [
    {
     "ename": "AttributeError",
     "evalue": "'str' object has no attribute 'concat'",
     "output_type": "error",
     "traceback": [
      "\u001b[0;31m---------------------------------------------------------------------------\u001b[0m",
      "\u001b[0;31mAttributeError\u001b[0m                            Traceback (most recent call last)",
      "\u001b[0;32m<ipython-input-30-048f2e816d02>\u001b[0m in \u001b[0;36m<module>\u001b[0;34m\u001b[0m\n\u001b[0;32m----> 1\u001b[0;31m \u001b[0mfile_name\u001b[0m\u001b[0;34m.\u001b[0m\u001b[0msplit\u001b[0m\u001b[0;34m(\u001b[0m\u001b[0;34m\".\"\u001b[0m\u001b[0;34m)\u001b[0m\u001b[0;34m[\u001b[0m\u001b[0;36m0\u001b[0m\u001b[0;34m]\u001b[0m\u001b[0;34m.\u001b[0m\u001b[0mconcat\u001b[0m\u001b[0;34m(\u001b[0m\u001b[0;34m\"_word_stats\"\u001b[0m\u001b[0;34m)\u001b[0m\u001b[0;34m\u001b[0m\u001b[0;34m\u001b[0m\u001b[0m\n\u001b[0m",
      "\u001b[0;31mAttributeError\u001b[0m: 'str' object has no attribute 'concat'"
     ]
    }
   ],
   "source": [
    "file_name.split(\".\")[0].concat(\"_word_stats\")"
   ]
  },
  {
   "cell_type": "code",
   "execution_count": 32,
   "metadata": {},
   "outputs": [
    {
     "ename": "SyntaxError",
     "evalue": "invalid syntax (<ipython-input-32-c46f1db6c875>, line 1)",
     "output_type": "error",
     "traceback": [
      "\u001b[0;36m  File \u001b[0;32m\"<ipython-input-32-c46f1db6c875>\"\u001b[0;36m, line \u001b[0;32m1\u001b[0m\n\u001b[0;31m    \"\".join{list(file_name.split(\".\")[0], \"_word_stats\", file_name.split(\".\")[1]})\u001b[0m\n\u001b[0m           ^\u001b[0m\n\u001b[0;31mSyntaxError\u001b[0m\u001b[0;31m:\u001b[0m invalid syntax\n"
     ]
    }
   ],
   "source": []
  },
  {
   "cell_type": "code",
   "execution_count": 40,
   "metadata": {},
   "outputs": [
    {
     "ename": "TypeError",
     "evalue": "join() takes exactly one argument (3 given)",
     "output_type": "error",
     "traceback": [
      "\u001b[0;31m---------------------------------------------------------------------------\u001b[0m",
      "\u001b[0;31mTypeError\u001b[0m                                 Traceback (most recent call last)",
      "\u001b[0;32m<ipython-input-40-75c62a397d54>\u001b[0m in \u001b[0;36m<module>\u001b[0;34m\u001b[0m\n\u001b[0;32m----> 1\u001b[0;31m \u001b[0;34m\"\"\u001b[0m\u001b[0;34m.\u001b[0m\u001b[0mjoin\u001b[0m\u001b[0;34m(\u001b[0m\u001b[0mfile_name\u001b[0m\u001b[0;34m.\u001b[0m\u001b[0msplit\u001b[0m\u001b[0;34m(\u001b[0m\u001b[0;34m\".\"\u001b[0m\u001b[0;34m)\u001b[0m\u001b[0;34m[\u001b[0m\u001b[0;36m0\u001b[0m\u001b[0;34m]\u001b[0m\u001b[0;34m,\u001b[0m \u001b[0;34m\"_word_stats.\"\u001b[0m\u001b[0;34m,\u001b[0m \u001b[0mfile_name\u001b[0m\u001b[0;34m.\u001b[0m\u001b[0msplit\u001b[0m\u001b[0;34m(\u001b[0m\u001b[0;34m\".\"\u001b[0m\u001b[0;34m)\u001b[0m\u001b[0;34m[\u001b[0m\u001b[0;36m1\u001b[0m\u001b[0;34m]\u001b[0m\u001b[0;34m)\u001b[0m\u001b[0;34m\u001b[0m\u001b[0;34m\u001b[0m\u001b[0m\n\u001b[0m",
      "\u001b[0;31mTypeError\u001b[0m: join() takes exactly one argument (3 given)"
     ]
    }
   ],
   "source": [
    "\"\".join(file_name.split(\".\")[0], \"_word_stats.\", file_name.split(\".\")[1])"
   ]
  },
  {
   "cell_type": "code",
   "execution_count": null,
   "metadata": {},
   "outputs": [],
   "source": []
  }
 ],
 "metadata": {
  "kernelspec": {
   "display_name": "Python 3",
   "language": "python",
   "name": "python3"
  },
  "language_info": {
   "codemirror_mode": {
    "name": "ipython",
    "version": 3
   },
   "file_extension": ".py",
   "mimetype": "text/x-python",
   "name": "python",
   "nbconvert_exporter": "python",
   "pygments_lexer": "ipython3",
   "version": "3.6.8"
  }
 },
 "nbformat": 4,
 "nbformat_minor": 4
}
