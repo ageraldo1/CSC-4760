{
 "cells": [
  {
   "cell_type": "markdown",
   "metadata": {},
   "source": [
    "### Dependencies\n",
    "___"
   ]
  },
  {
   "cell_type": "code",
   "execution_count": 13,
   "metadata": {},
   "outputs": [],
   "source": [
    "from pyspark.sql import SparkSession\n",
    "from pyspark.sql.types import StructField, StructType, StringType, IntegerType, FloatType"
   ]
  },
  {
   "cell_type": "markdown",
   "metadata": {},
   "source": [
    "### Create Session\n",
    "____"
   ]
  },
  {
   "cell_type": "code",
   "execution_count": 8,
   "metadata": {},
   "outputs": [],
   "source": [
    "csv_file = \"/tmp/walking/dataset.csv\"\n",
    "\n",
    "spark = SparkSession.builder.appName('sampleApplication').getOrCreate()\n",
    "\n"
   ]
  },
  {
   "cell_type": "markdown",
   "metadata": {},
   "source": [
    "#### Create DataFrame\n",
    "______"
   ]
  },
  {
   "cell_type": "code",
   "execution_count": 9,
   "metadata": {},
   "outputs": [
    {
     "name": "stdout",
     "output_type": "stream",
     "text": [
      "root\n",
      " |-- time: string (nullable = true)\n",
      " |-- avg_rss12: string (nullable = true)\n",
      " |-- var_rss12: string (nullable = true)\n",
      " |-- avg_rss13: string (nullable = true)\n",
      " |-- var_rss13: string (nullable = true)\n",
      " |-- avg_rss23: string (nullable = true)\n",
      " |-- var_rss23: string (nullable = true)\n",
      "\n"
     ]
    }
   ],
   "source": [
    "df = spark.read.csv(path=csv_file,header=True)\n",
    "df.printSchema()"
   ]
  },
  {
   "cell_type": "code",
   "execution_count": 10,
   "metadata": {},
   "outputs": [
    {
     "name": "stdout",
     "output_type": "stream",
     "text": [
      "+----+---------+---------+---------+---------+---------+---------+\n",
      "|time|avg_rss12|var_rss12|avg_rss13|var_rss13|avg_rss23|var_rss23|\n",
      "+----+---------+---------+---------+---------+---------+---------+\n",
      "|   0|    35.00|     3.67|    16.50|     3.77|    14.00|     1.63|\n",
      "| 250|    28.50|     3.35|    17.50|     3.77|    12.25|     3.90|\n",
      "| 500|    35.50|     2.87|    15.75|     2.86|    17.75|     5.07|\n",
      "| 750|    29.75|    12.19|    16.25|     2.17|    20.75|     2.59|\n",
      "|1000|    27.00|     2.12|    16.75|     0.83|    24.75|     1.64|\n",
      "|1250|    36.00|     5.61|    12.25|     2.28|    19.25|     2.68|\n",
      "|1500|    38.50|     4.33|    16.00|     5.70|    15.25|     2.38|\n",
      "|1750|    35.25|     2.49|    16.00|     1.41|    15.00|     2.83|\n",
      "|2000|    35.75|     7.05|    11.00|     4.42|    12.50|     8.08|\n",
      "|2250|    36.00|     7.04|    15.00|     2.12|    16.75|     4.02|\n",
      "+----+---------+---------+---------+---------+---------+---------+\n",
      "only showing top 10 rows\n",
      "\n"
     ]
    }
   ],
   "source": [
    "df.show(10)"
   ]
  },
  {
   "cell_type": "code",
   "execution_count": 11,
   "metadata": {},
   "outputs": [
    {
     "name": "stdout",
     "output_type": "stream",
     "text": [
      "+-------+----------------+-----------------+------------------+------------------+------------------+------------------+------------------+\n",
      "|summary|            time|        avg_rss12|         var_rss12|         avg_rss13|         var_rss13|         avg_rss23|         var_rss23|\n",
      "+-------+----------------+-----------------+------------------+------------------+------------------+------------------+------------------+\n",
      "|  count|            7200|             7200|              7200|              7200|              7200|              7200|              7200|\n",
      "|   mean|         59875.0|34.43367638888891| 4.337393055555574|15.394559722222217|3.2036083333333623|16.025058333333345| 3.343612500000015|\n",
      "| stddev|34643.3468469953|4.808602849860674|2.4434541249050907| 2.912519317367833| 1.624393703577679|3.1124831754792432|1.7012372763482624|\n",
      "|    min|               0|            12.50|              0.00|             10.00|              0.00|             10.00|              0.00|\n",
      "|    max|           99750|            51.25|              9.98|              9.75|              9.90|              9.75|              9.74|\n",
      "+-------+----------------+-----------------+------------------+------------------+------------------+------------------+------------------+\n",
      "\n"
     ]
    }
   ],
   "source": [
    "df.describe().show()"
   ]
  },
  {
   "cell_type": "markdown",
   "metadata": {},
   "source": [
    "#### Schema Casting\n",
    "_____"
   ]
  },
  {
   "cell_type": "code",
   "execution_count": 18,
   "metadata": {},
   "outputs": [
    {
     "name": "stdout",
     "output_type": "stream",
     "text": [
      "root\n",
      " |-- time: integer (nullable = true)\n",
      " |-- avg_rss12: float (nullable = true)\n",
      " |-- var_rss12: float (nullable = true)\n",
      " |-- avg_rss13: float (nullable = true)\n",
      " |-- var_rss13: float (nullable = true)\n",
      " |-- avg_rss23: float (nullable = true)\n",
      " |-- var_rss23: float (nullable = true)\n",
      "\n"
     ]
    }
   ],
   "source": [
    "data_schema = [StructField('time', IntegerType(), False),\n",
    "               StructField('avg_rss12', FloatType(), False),\n",
    "               StructField('var_rss12', FloatType(), False),\n",
    "               StructField('avg_rss13', FloatType(), False),\n",
    "               StructField('var_rss13', FloatType(), False),\n",
    "               StructField('avg_rss23', FloatType(), False),\n",
    "               StructField('var_rss23', FloatType(), False),\n",
    "              ]\n",
    "\n",
    "final_struct = StructType(fields=data_schema)\n",
    "\n",
    "df = spark.read.csv(path=csv_file, header=True, schema=final_struct)\n",
    "df.printSchema()"
   ]
  },
  {
   "cell_type": "code",
   "execution_count": null,
   "metadata": {},
   "outputs": [],
   "source": []
  }
 ],
 "metadata": {
  "kernelspec": {
   "display_name": "Python 3",
   "language": "python",
   "name": "python3"
  },
  "language_info": {
   "codemirror_mode": {
    "name": "ipython",
    "version": 3
   },
   "file_extension": ".py",
   "mimetype": "text/x-python",
   "name": "python",
   "nbconvert_exporter": "python",
   "pygments_lexer": "ipython3",
   "version": "3.6.8"
  }
 },
 "nbformat": 4,
 "nbformat_minor": 4
}
