{
 "cells": [
  {
   "cell_type": "code",
   "execution_count": 70,
   "metadata": {},
   "outputs": [],
   "source": [
    "from pyspark import SparkConf, SparkContext\n",
    "from pyspark.sql import Row, SparkSession\n",
    "from pyspark.sql.types import StructField,StructType,StringType, IntegerType, FloatType,DoubleType"
   ]
  },
  {
   "cell_type": "code",
   "execution_count": 2,
   "metadata": {},
   "outputs": [],
   "source": [
    "conf = SparkConf().setMaster('local').setAppName('sandbox')\n",
    "sc = SparkContext(conf=conf)"
   ]
  },
  {
   "cell_type": "code",
   "execution_count": 4,
   "metadata": {},
   "outputs": [],
   "source": [
    "my_list = ['spark', 'rdd', 'example', 'jupyter']\n",
    "my_rdd = sc.parallelize(my_list)"
   ]
  },
  {
   "cell_type": "code",
   "execution_count": 5,
   "metadata": {},
   "outputs": [
    {
     "data": {
      "text/plain": [
       "['spark', 'rdd', 'example', 'jupyter']"
      ]
     },
     "execution_count": 5,
     "metadata": {},
     "output_type": "execute_result"
    }
   ],
   "source": [
    "my_rdd.collect()"
   ]
  },
  {
   "cell_type": "code",
   "execution_count": 21,
   "metadata": {},
   "outputs": [],
   "source": [
    "my_file = sc.textFile('/projects/spark/assignments/final/resouces/temp.csv')"
   ]
  },
  {
   "cell_type": "code",
   "execution_count": 22,
   "metadata": {},
   "outputs": [
    {
     "data": {
      "text/plain": [
       "['mstephenson@fernandez.com,\"835 Frank TunnelWrightmouth, MI 82180-9605\",Violet,34.49726772511229,12.65565114916675,39.57766801952616,4.0826206329529615,587.9510539684005']"
      ]
     },
     "execution_count": 22,
     "metadata": {},
     "output_type": "execute_result"
    }
   ],
   "source": [
    "my_file.flatMap(lambda line : line.split(\":\")).take(1)"
   ]
  },
  {
   "cell_type": "code",
   "execution_count": 20,
   "metadata": {},
   "outputs": [],
   "source": [
    "data_schema = [StructField('Email', StringType(), False),\n",
    "               StructField('Address', StringType(), False),\n",
    "               StructField('Avatar', StringType(), False),\n",
    "               StructField('Avg Session Length', FloatType(), False),\n",
    "               StructField('Time on App', FloatType(), False),\n",
    "               StructField('Time on Website', FloatType(), False),\n",
    "               StructField('Length of Membership', FloatType(), False),\n",
    "               StructField('Yearly Amount Spent', FloatType(), False)\n",
    "              ]\n",
    "\n",
    "data_struct = StructType(fields=data_schema)"
   ]
  },
  {
   "cell_type": "code",
   "execution_count": 23,
   "metadata": {},
   "outputs": [],
   "source": [
    "def getSparkSessionInstance(sparkConf):\n",
    "    if (\"sparkSessionSingletonInstance\" not in globals()):\n",
    "        globals()[\"sparkSessionSingletonInstance\"] = SparkSession \\\n",
    "            .builder \\\n",
    "            .config(conf=sparkConf) \\\n",
    "            .getOrCreate()\n",
    "    return globals()[\"sparkSessionSingletonInstance\"]"
   ]
  },
  {
   "cell_type": "code",
   "execution_count": 28,
   "metadata": {},
   "outputs": [],
   "source": [
    "rdd = sc.textFile('/projects/spark/assignments/final/resouces/temp.csv')"
   ]
  },
  {
   "cell_type": "code",
   "execution_count": 81,
   "metadata": {},
   "outputs": [
    {
     "data": {
      "text/plain": [
       "[['34.49726773', '12.65565115', '39.57766802', '4.082620633', '587.951054']]"
      ]
     },
     "execution_count": 81,
     "metadata": {},
     "output_type": "execute_result"
    }
   ],
   "source": [
    "spark = getSparkSessionInstance(rdd.context.getConf())\n",
    "\n",
    "data_schema = [StructField('Avg Session Length', DoubleType(), False),\n",
    "               StructField('Time on App', DoubleType(), False),\n",
    "               StructField('Time on Website', DoubleType(), False),\n",
    "               StructField('Length of Membership', DoubleType(), False),\n",
    "               StructField('Yearly Amount Spent', DoubleType(), False)]\n",
    "\n",
    "data_struct = StructType(fields=data_schema) \n",
    "\n",
    "\n",
    "rowRDD = rdd.map(lambda line: line.split(','))\n",
    "\n",
    "#df = rowRDD.toDF(['Avg Session Length', 'Time on App', 'Time on Website', 'Length of Membership', 'Yearly Amount Spent'])\n",
    "#df = rowRDD.toDF(schema=data_struct)\n",
    "#df.show(n=5)\n",
    "#df.printSchema()\n",
    "\n",
    "rowRDD.take(1)\n",
    "\n",
    "#rowRDD = rdd.map(lambda row: Row(row))\n",
    "\n",
    "\n",
    "#df = spark.createDataFrame(rowRDD, data_struct)"
   ]
  },
  {
   "cell_type": "code",
   "execution_count": 36,
   "metadata": {},
   "outputs": [
    {
     "name": "stdout",
     "output_type": "stream",
     "text": [
      "root\n",
      " |-- Email: string (nullable = false)\n",
      " |-- Address: string (nullable = false)\n",
      " |-- Avatar: string (nullable = false)\n",
      " |-- Avg Session Length: float (nullable = false)\n",
      " |-- Time on App: float (nullable = false)\n",
      " |-- Time on Website: float (nullable = false)\n",
      " |-- Length of Membership: float (nullable = false)\n",
      " |-- Yearly Amount Spent: float (nullable = false)\n",
      "\n"
     ]
    }
   ],
   "source": [
    "df.printSchema()"
   ]
  },
  {
   "cell_type": "code",
   "execution_count": null,
   "metadata": {},
   "outputs": [],
   "source": []
  },
  {
   "cell_type": "code",
   "execution_count": 46,
   "metadata": {},
   "outputs": [],
   "source": [
    "rdd = sc.textFile('/projects/spark/assignments/final/resouces/temp.csv')"
   ]
  },
  {
   "cell_type": "code",
   "execution_count": 58,
   "metadata": {},
   "outputs": [],
   "source": [
    "rows = []\n",
    "\n",
    "for row in rdd.map(lambda line: line.split(\",\")).collect():\n",
    "   rows.append((*row,))\n",
    "   \n"
   ]
  },
  {
   "cell_type": "code",
   "execution_count": 60,
   "metadata": {},
   "outputs": [
    {
     "name": "stdout",
     "output_type": "stream",
     "text": [
      "('34.49726773', '12.65565115', '39.57766802', '4.082620633', '587.951054')\n"
     ]
    }
   ],
   "source": [
    "print(rows[0])"
   ]
  },
  {
   "cell_type": "code",
   "execution_count": 61,
   "metadata": {},
   "outputs": [],
   "source": [
    "my_list = ['Avg Session Length', 'Time on App', 'Time on Website', 'Length of Membership', 'Yearly Amount Spent']"
   ]
  },
  {
   "cell_type": "code",
   "execution_count": 65,
   "metadata": {},
   "outputs": [
    {
     "data": {
      "text/plain": [
       "list"
      ]
     },
     "execution_count": 65,
     "metadata": {},
     "output_type": "execute_result"
    }
   ],
   "source": [
    "my_list[0:-1]"
   ]
  },
  {
   "cell_type": "code",
   "execution_count": 64,
   "metadata": {},
   "outputs": [
    {
     "data": {
      "text/plain": [
       "'Yearly Amount Spent'"
      ]
     },
     "execution_count": 64,
     "metadata": {},
     "output_type": "execute_result"
    }
   ],
   "source": [
    "my_list[-1]"
   ]
  },
  {
   "cell_type": "code",
   "execution_count": 66,
   "metadata": {},
   "outputs": [
    {
     "data": {
      "text/plain": [
       "['Avg Session Length',\n",
       " 'Time on App',\n",
       " 'Time on Website',\n",
       " 'Length of Membership',\n",
       " 'Yearly Amount Spent']"
      ]
     },
     "execution_count": 66,
     "metadata": {},
     "output_type": "execute_result"
    }
   ],
   "source": [
    "my_list"
   ]
  },
  {
   "cell_type": "code",
   "execution_count": 82,
   "metadata": {},
   "outputs": [],
   "source": [
    "my_list = ['34.49726773', '12.65565115', '39.57766802', '4.082620633', '587.951054']"
   ]
  },
  {
   "cell_type": "code",
   "execution_count": 92,
   "metadata": {},
   "outputs": [
    {
     "data": {
      "text/plain": [
       "(34.49726773, 12.65565115, 39.57766802, 4.082620633, 587.951054)"
      ]
     },
     "execution_count": 92,
     "metadata": {},
     "output_type": "execute_result"
    }
   ],
   "source": [
    "*[float(i) for i in my_list],"
   ]
  },
  {
   "cell_type": "code",
   "execution_count": null,
   "metadata": {},
   "outputs": [],
   "source": []
  }
 ],
 "metadata": {
  "kernelspec": {
   "display_name": "Python 3",
   "language": "python",
   "name": "python3"
  },
  "language_info": {
   "codemirror_mode": {
    "name": "ipython",
    "version": 3
   },
   "file_extension": ".py",
   "mimetype": "text/x-python",
   "name": "python",
   "nbconvert_exporter": "python",
   "pygments_lexer": "ipython3",
   "version": "3.6.8"
  }
 },
 "nbformat": 4,
 "nbformat_minor": 4
}
