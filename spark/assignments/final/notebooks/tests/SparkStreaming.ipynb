{
 "cells": [
  {
   "cell_type": "markdown",
   "metadata": {},
   "source": [
    "#### Dependencies\n",
    "___"
   ]
  },
  {
   "cell_type": "code",
   "execution_count": 224,
   "metadata": {},
   "outputs": [],
   "source": [
    "from pyspark import SparkConf, SparkContext\n",
    "from pyspark.streaming import StreamingContext\n",
    "from pyspark.sql import Row, SparkSession"
   ]
  },
  {
   "cell_type": "markdown",
   "metadata": {},
   "source": [
    "#### Create Context\n",
    "____"
   ]
  },
  {
   "cell_type": "code",
   "execution_count": 266,
   "metadata": {},
   "outputs": [],
   "source": [
    "conf = SparkConf().setMaster('local[2]').setAppName('ApacheWebLogsStream')\n",
    "sc = SparkContext(conf=conf)"
   ]
  },
  {
   "cell_type": "markdown",
   "metadata": {},
   "source": [
    "#### Create Streaming Context\n",
    "____"
   ]
  },
  {
   "cell_type": "code",
   "execution_count": 267,
   "metadata": {},
   "outputs": [],
   "source": [
    "ssc = StreamingContext(sparkContext=sc, batchDuration=10) \n",
    "input_stream = ssc.socketTextStream(hostname='localhost', port=9999)"
   ]
  },
  {
   "cell_type": "code",
   "execution_count": 268,
   "metadata": {},
   "outputs": [],
   "source": [
    "def process(time, rdd):\n",
    "    print(time)\n",
    "    \n",
    "    spark = SparkSession.builder.appName('processLR').getOrCreate()\n",
    "    \n",
    "    rows = []\n",
    "    header = ['Avg Session Length', 'Time on App', 'Time on Website', 'Length of Membership', 'Yearly Amount Spent']\n",
    "    \n",
    "    for row in rdd.map(lambda line: line.split(\",\")).collect():\n",
    "        rows.append((*row,))\n",
    "    \n",
    "    if (len(rows)) > 0:\n",
    "        dataFrame = spark.createDataFrame(rows, header,)\n",
    "    \n",
    "    #rows = rdd.map(lambda line: line.split(\",\")).collect()\n",
    "    #rowRdd = rdd.map(lambda w: Row(word=w))\n",
    "    #dataFrame = spark.createDataFrame(rowRdd)\n",
    "    \n",
    "    #rowRDD = rdd.map(lambda line: line.split(','))\n",
    "    #dataFrame = rowRDD.toDF(['Avg Session Length', 'Time on App', 'Time on Website', 'Length of Membership', 'Yearly Amount Spent'])  \n",
    "    \n",
    "        dataFrame.printSchema()\n",
    "        dataFrame.show(n=5)    \n",
    "    \n",
    "    print('done')\n",
    "    \n",
    "    "
   ]
  },
  {
   "cell_type": "code",
   "execution_count": 269,
   "metadata": {},
   "outputs": [],
   "source": [
    "#words = lines.flatMap(lambda line: line.split(' '))\n",
    "#pairs = words.map(lambda word: (word, 1))\n",
    "#word_counts = pairs.reduceByKey(lambda num1, num2: num1+num2)\n",
    "#word_counts.pprint()\n",
    "\n",
    "#print(type(lines))\n",
    "#print(dir(lines))\n",
    "#input_stream = lines.flatMap(lambda line: line.split('\\n'))\n",
    "#input_stream.foreachRDD(process)\n",
    "\n",
    "input_stream.foreachRDD(process)\n"
   ]
  },
  {
   "cell_type": "markdown",
   "metadata": {},
   "source": [
    "#### Start Streaming\n",
    "____"
   ]
  },
  {
   "cell_type": "code",
   "execution_count": 270,
   "metadata": {},
   "outputs": [
    {
     "name": "stdout",
     "output_type": "stream",
     "text": [
      "2020-05-03 14:08:50\n",
      "done\n",
      "2020-05-03 14:09:00\n",
      "done\n",
      "2020-05-03 14:09:10\n",
      "root\n",
      " |-- Avg Session Length: string (nullable = true)\n",
      " |-- Time on App: string (nullable = true)\n",
      " |-- Time on Website: string (nullable = true)\n",
      " |-- Length of Membership: string (nullable = true)\n",
      " |-- Yearly Amount Spent: string (nullable = true)\n",
      "\n",
      "+------------------+-----------+---------------+--------------------+-------------------+\n",
      "|Avg Session Length|Time on App|Time on Website|Length of Membership|Yearly Amount Spent|\n",
      "+------------------+-----------+---------------+--------------------+-------------------+\n",
      "|       34.49726773|12.65565115|    39.57766802|         4.082620633|         587.951054|\n",
      "|       31.92627203|11.10946073|    37.26895887|         2.664034182|        392.2049334|\n",
      "|       33.00091476|11.33027806|    37.11059744|         4.104543202|        487.5475049|\n",
      "|       34.30555663|13.71751367|    36.72128268|         3.120178783|         581.852344|\n",
      "|       33.33067252|12.79518855|     37.5366533|         4.446308318|         599.406092|\n",
      "+------------------+-----------+---------------+--------------------+-------------------+\n",
      "only showing top 5 rows\n",
      "\n",
      "done\n"
     ]
    }
   ],
   "source": [
    "ssc.start()"
   ]
  },
  {
   "cell_type": "code",
   "execution_count": 272,
   "metadata": {},
   "outputs": [],
   "source": [
    "ssc.awaitTermination()\n",
    "\n",
    "ssc.stop()"
   ]
  },
  {
   "cell_type": "code",
   "execution_count": null,
   "metadata": {},
   "outputs": [],
   "source": []
  }
 ],
 "metadata": {
  "kernelspec": {
   "display_name": "Python 3",
   "language": "python",
   "name": "python3"
  },
  "language_info": {
   "codemirror_mode": {
    "name": "ipython",
    "version": 3
   },
   "file_extension": ".py",
   "mimetype": "text/x-python",
   "name": "python",
   "nbconvert_exporter": "python",
   "pygments_lexer": "ipython3",
   "version": "3.6.8"
  }
 },
 "nbformat": 4,
 "nbformat_minor": 4
}
