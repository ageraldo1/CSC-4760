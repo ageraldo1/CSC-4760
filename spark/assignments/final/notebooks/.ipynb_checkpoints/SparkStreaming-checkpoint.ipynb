{
 "cells": [
  {
   "cell_type": "markdown",
   "metadata": {},
   "source": [
    "#### Dependencies\n",
    "___"
   ]
  },
  {
   "cell_type": "code",
   "execution_count": 85,
   "metadata": {},
   "outputs": [],
   "source": [
    "from pyspark import SparkConf, SparkContext\n",
    "from pyspark.streaming import StreamingContext\n",
    "from pyspark.sql import Row, SparkSession"
   ]
  },
  {
   "cell_type": "markdown",
   "metadata": {},
   "source": [
    "#### Create Context\n",
    "____"
   ]
  },
  {
   "cell_type": "code",
   "execution_count": 86,
   "metadata": {},
   "outputs": [],
   "source": [
    "conf = SparkConf().setMaster('local[2]').setAppName('ApacheWebLogsStream')\n",
    "sc = SparkContext(conf=conf)"
   ]
  },
  {
   "cell_type": "markdown",
   "metadata": {},
   "source": [
    "#### Create Streaming Context\n",
    "____"
   ]
  },
  {
   "cell_type": "code",
   "execution_count": 87,
   "metadata": {},
   "outputs": [],
   "source": [
    "ssc = StreamingContext(sparkContext=sc, batchDuration=10) \n",
    "lines = ssc.socketTextStream(hostname='localhost', port=9999)"
   ]
  },
  {
   "cell_type": "code",
   "execution_count": 88,
   "metadata": {},
   "outputs": [],
   "source": [
    "def getSparkSessionInstance(sparkConf):\n",
    "    if (\"sparkSessionSingletonInstance\" not in globals()):\n",
    "        globals()[\"sparkSessionSingletonInstance\"] = SparkSession \\\n",
    "            .builder \\\n",
    "            .config(conf=sparkConf) \\\n",
    "            .getOrCreate()\n",
    "    return globals()[\"sparkSessionSingletonInstance\"]"
   ]
  },
  {
   "cell_type": "code",
   "execution_count": 90,
   "metadata": {},
   "outputs": [],
   "source": [
    "def process(time, rdd):\n",
    "    print(time)\n",
    "    \n",
    "    spark = getSparkSessionInstance(rdd.context.getConf())\n",
    "\n",
    "    #rowRdd = rdd.map(lambda w: Row(word=w))\n",
    "    #dataFrame = spark.createDataFrame(rowRdd)\n",
    "    dataFrame = rdd.toDF()\n",
    "\n",
    "    dataFrame.show()\n",
    "    print('done')\n",
    "    \n",
    "    "
   ]
  },
  {
   "cell_type": "code",
   "execution_count": 91,
   "metadata": {},
   "outputs": [],
   "source": [
    "#words = lines.flatMap(lambda line: line.split(' '))\n",
    "#pairs = words.map(lambda word: (word, 1))\n",
    "#word_counts = pairs.reduceByKey(lambda num1, num2: num1+num2)\n",
    "#word_counts.pprint()\n",
    "\n",
    "input_stream = lines.flatMap(lambda line: line.split('\\n'))\n",
    "input_stream.foreachRDD(process)\n"
   ]
  },
  {
   "cell_type": "markdown",
   "metadata": {},
   "source": [
    "#### Start Streaming\n",
    "____"
   ]
  },
  {
   "cell_type": "code",
   "execution_count": 92,
   "metadata": {},
   "outputs": [
    {
     "name": "stdout",
     "output_type": "stream",
     "text": [
      "2020-05-03 12:14:40\n",
      "2020-05-03 12:14:50\n",
      "+--------------------+\n",
      "|                word|\n",
      "+--------------------+\n",
      "|Email,Address,Ava...|\n",
      "|mstephenson@ferna...|\n",
      "|hduke@hotmail.com...|\n",
      "|pallen@yahoo.com,...|\n",
      "|riverarebecca@gma...|\n",
      "|mstephens@davidso...|\n",
      "|alvareznancy@luca...|\n",
      "|katherine20@yahoo...|\n",
      "|awatkins@yahoo.co...|\n",
      "|vchurch@walter-ma...|\n",
      "|bonnie69@lin.biz,...|\n",
      "|andrew06@peterson...|\n",
      "|ryanwerner@freema...|\n",
      "|knelson@gmail.com...|\n",
      "|wrightpeter@yahoo...|\n",
      "|taylormason@gmail...|\n",
      "|jstark@anderson.c...|\n",
      "|wjennings@gmail.c...|\n",
      "|rebecca45@hale-ba...|\n",
      "|alejandro75@hotma...|\n",
      "+--------------------+\n",
      "only showing top 20 rows\n",
      "\n",
      "done\n",
      "2020-05-03 12:15:00\n",
      "2020-05-03 12:15:10\n",
      "2020-05-03 12:15:20\n",
      "2020-05-03 12:15:30\n"
     ]
    }
   ],
   "source": [
    "ssc.start()"
   ]
  },
  {
   "cell_type": "code",
   "execution_count": 93,
   "metadata": {},
   "outputs": [],
   "source": [
    "ssc.stop()"
   ]
  },
  {
   "cell_type": "code",
   "execution_count": null,
   "metadata": {},
   "outputs": [],
   "source": []
  }
 ],
 "metadata": {
  "kernelspec": {
   "display_name": "Python 3",
   "language": "python",
   "name": "python3"
  },
  "language_info": {
   "codemirror_mode": {
    "name": "ipython",
    "version": 3
   },
   "file_extension": ".py",
   "mimetype": "text/x-python",
   "name": "python",
   "nbconvert_exporter": "python",
   "pygments_lexer": "ipython3",
   "version": "3.6.8"
  }
 },
 "nbformat": 4,
 "nbformat_minor": 4
}
